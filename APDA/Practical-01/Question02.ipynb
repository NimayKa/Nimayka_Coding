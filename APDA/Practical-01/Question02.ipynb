{
 "cells": [
  {
   "cell_type": "markdown",
   "metadata": {},
   "source": [
    "Ak Yamin | \n",
    "22FTT1344 | \n",
    "DA3304 APDA | \n",
    "Question 2"
   ]
  },
  {
   "cell_type": "code",
   "execution_count": 2,
   "metadata": {},
   "outputs": [
    {
     "name": "stdout",
     "output_type": "stream",
     "text": [
      "Result: 3.0\n"
     ]
    }
   ],
   "source": [
    "import numpy as np\n",
    "\n",
    "def add(x, y):\n",
    "    return np.add(x,y)\n",
    "\n",
    "def subtract(x, y):\n",
    "    return np.subtract(x,y)\n",
    "\n",
    "def multiply(x, y):\n",
    "    return np.multiply(x,y)\n",
    "\n",
    "def divide(x, y):\n",
    "    return np.divide(x,y)\n",
    "\n",
    "num1 = float(input(\"Enter the first number: \"))\n",
    "num2 = float(input(\"Enter the second number: \"))\n",
    "operational = input(\"Addition(+),Subtraction(-),Multiplication(*),Division(/)\")\n",
    "\n",
    "if operational == '+':\n",
    "    result = add(num1, num2)\n",
    "elif operational == '-':\n",
    "    result = subtract(num1, num2)\n",
    "elif operational == '*':\n",
    "    result = multiply(num1, num2)\n",
    "elif operational == '/':\n",
    "    result = divide(num1, num2)\n",
    "else:\n",
    "    result = 'Error, Please run again!'\n",
    "\n",
    "print(\"Result:\",result)"
   ]
  }
 ],
 "metadata": {
  "kernelspec": {
   "display_name": "APDA",
   "language": "python",
   "name": "python3"
  },
  "language_info": {
   "codemirror_mode": {
    "name": "ipython",
    "version": 3
   },
   "file_extension": ".py",
   "mimetype": "text/x-python",
   "name": "python",
   "nbconvert_exporter": "python",
   "pygments_lexer": "ipython3",
   "version": "3.11.4"
  },
  "orig_nbformat": 4
 },
 "nbformat": 4,
 "nbformat_minor": 2
}
