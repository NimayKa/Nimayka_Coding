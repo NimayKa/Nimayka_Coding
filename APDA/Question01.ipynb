{
 "cells": [
  {
   "cell_type": "markdown",
   "metadata": {},
   "source": [
    "Ak Yamin | \n",
    "22FTT1344 | \n",
    "DA3304 APDA | \n",
    "Question 1"
   ]
  },
  {
   "cell_type": "code",
   "execution_count": 6,
   "metadata": {},
   "outputs": [
    {
     "name": "stdout",
     "output_type": "stream",
     "text": [
      "        name  score  attempts qualify labels\n",
      "0  Anastasia   12.5         1     yes      a\n",
      "1       Dima    9.0         3      no      b\n",
      "2  Katherine   16.5         2     yes      c\n",
      "3      James    NaN         3      no      d\n",
      "4      Emily    9.0         2      no      e\n",
      "5    Michael   20.0         3     yes      f\n",
      "6    Matthew   14.5         1     yes      g\n",
      "7      Laura    NaN         1      no      h\n",
      "8      Kevin    8.0         2      no      l\n",
      "9      Jonas   19.0         1     yes      j\n"
     ]
    }
   ],
   "source": [
    "import pandas as pd\n",
    "from numpy import nan as NA\n",
    "\n",
    "\n",
    "df = pd.DataFrame({ \n",
    "'name':['Anastasia','Dima', 'Katherine', 'James', 'Emily', 'Michael', 'Matthew',\n",
    "'Laura', 'Kevin', 'Jonas'],\n",
    "'score':[12.5,9,16.5,NA,9,20,14.5,NA,8,19],\n",
    "'attempts':[1,3,2,3,2,3,1,1,2,1],\n",
    "'qualify':['yes','no','yes','no','no','yes','yes','no','no','yes'],\n",
    "'labels': ['a','b','c','d','e','f','g','h','l','j']\n",
    "})\n",
    "\n",
    "print (df)"
   ]
  },
  {
   "cell_type": "markdown",
   "metadata": {},
   "source": [
    "Question 1a."
   ]
  },
  {
   "cell_type": "code",
   "execution_count": 2,
   "metadata": {},
   "outputs": [
    {
     "name": "stdout",
     "output_type": "stream",
     "text": [
      "   attempts       name qualify  score labels\n",
      "0         1  Anastasia     yes   12.5      a\n",
      "1         3       Dima      no    9.0      b\n",
      "2         2  Katherine     yes   16.5      c\n"
     ]
    }
   ],
   "source": [
    "df_reorder = df[['attempts','name','qualify','score','labels']]\n",
    "print(df_reorder.head(3))"
   ]
  },
  {
   "cell_type": "markdown",
   "metadata": {},
   "source": [
    "Question 1.b"
   ]
  },
  {
   "cell_type": "code",
   "execution_count": 3,
   "metadata": {},
   "outputs": [
    {
     "name": "stdout",
     "output_type": "stream",
     "text": [
      "   attempts       name qualify  score labels\n",
      "0         1  Anastasia     yes   12.5      a\n",
      "2         2  Katherine     yes   16.5      c\n",
      "5         3    Michael     yes   20.0      f\n"
     ]
    }
   ],
   "source": [
    "df_qualify = df_reorder.loc[(df_reorder['qualify'] == 'yes')]\n",
    "print (df_qualify.head(3))"
   ]
  },
  {
   "cell_type": "markdown",
   "metadata": {},
   "source": [
    "Question 1.c"
   ]
  },
  {
   "cell_type": "code",
   "execution_count": 4,
   "metadata": {},
   "outputs": [
    {
     "name": "stdout",
     "output_type": "stream",
     "text": [
      "   attempts       name qualify  score labels\n",
      "0         1  Anastasia     yes   12.5      a\n",
      "2         2  Katherine     yes   16.5      c\n",
      "5         3    Michael     yes   20.0      f\n"
     ]
    }
   ],
   "source": [
    "df_point = df_reorder.loc[(df_reorder['score'] >= 12)]\n",
    "print (df_point.head(3))"
   ]
  }
 ],
 "metadata": {
  "kernelspec": {
   "display_name": "APDA",
   "language": "python",
   "name": "python3"
  },
  "language_info": {
   "codemirror_mode": {
    "name": "ipython",
    "version": 3
   },
   "file_extension": ".py",
   "mimetype": "text/x-python",
   "name": "python",
   "nbconvert_exporter": "python",
   "pygments_lexer": "ipython3",
   "version": "3.11.4"
  },
  "orig_nbformat": 4
 },
 "nbformat": 4,
 "nbformat_minor": 2
}
