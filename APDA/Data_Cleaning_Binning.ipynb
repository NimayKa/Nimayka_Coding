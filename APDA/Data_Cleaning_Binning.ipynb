{
 "cells": [
  {
   "cell_type": "markdown",
   "metadata": {},
   "source": [
    "Mapping"
   ]
  },
  {
   "cell_type": "code",
   "execution_count": 1,
   "metadata": {},
   "outputs": [
    {
     "name": "stdout",
     "output_type": "stream",
     "text": [
      "          food  ounces  animal animal_alt\n",
      "0        bacon     4.0     pig        pig\n",
      "1  pulled pork     3.0     pig        pig\n",
      "2        bacon    12.0     pig        pig\n",
      "3     Pastrami     6.0     cow        cow\n",
      "4  corned beef     7.5     cow        cow\n",
      "5        Bacon     8.0     pig        pig\n",
      "6     pastrami     3.0     cow        cow\n",
      "7    honey ham     5.0     pig        pig\n",
      "8     nova lox     6.0  salmon     salmon \n",
      "\n",
      "0          bacon\n",
      "1    pulled pork\n",
      "2          bacon\n",
      "3       pastrami\n",
      "4    corned beef\n",
      "5          bacon\n",
      "6       pastrami\n",
      "7      honey ham\n",
      "8       nova lox\n",
      "Name: food, dtype: object \n",
      "\n",
      "0       pig\n",
      "1       pig\n",
      "2       pig\n",
      "3       cow\n",
      "4       cow\n",
      "5       pig\n",
      "6       cow\n",
      "7       pig\n",
      "8    salmon\n",
      "Name: animal, dtype: object \n",
      "\n",
      "0       pig\n",
      "1       pig\n",
      "2       pig\n",
      "3       cow\n",
      "4       cow\n",
      "5       pig\n",
      "6       cow\n",
      "7       pig\n",
      "8    salmon\n",
      "Name: animal_alt, dtype: object\n"
     ]
    }
   ],
   "source": [
    "import pandas as pd\n",
    "import numpy as np\n",
    "\n",
    "df = pd.DataFrame({'food':['bacon','pulled pork','bacon','Pastrami','corned beef','Bacon','pastrami','honey ham', 'nova lox'],\n",
    "                     'ounces':[4,3,12,6,7.5,8,3,5,6]})\n",
    "\n",
    "meat_to_animal = {'bacon':'pig',\n",
    "                  'pulled pork':'pig',\n",
    "                  'pastrami':'cow',\n",
    "                  'corned beef':'cow',\n",
    "                  'honey ham':'pig',\n",
    "                  'nova lox':'salmon'}\n",
    "\n",
    "lowercased_df = df['food'].str.lower()\n",
    "\n",
    "#map function, Mapping two column in this case using lowercased_df to map by meat_to_animal\n",
    "df['animal'] = lowercased_df.map (meat_to_animal)\n",
    "\n",
    "#lambda, a function, maths calculation\n",
    "df['animal_alt'] = df['food'].map(lambda x: meat_to_animal[x.lower()])\n",
    "\n",
    "print(df,'\\n')\n",
    "print(lowercased_df,'\\n')\n",
    "print(df['animal'],'\\n')\n",
    "print(df['animal_alt'])\n",
    "\n"
   ]
  },
  {
   "cell_type": "markdown",
   "metadata": {},
   "source": [
    "Replacing Values"
   ]
  },
  {
   "cell_type": "code",
   "execution_count": 2,
   "metadata": {},
   "outputs": [
    {
     "name": "stdout",
     "output_type": "stream",
     "text": [
      "Original Data\n",
      "0       1.0\n",
      "1    -999.0\n",
      "2       2.0\n",
      "3    -999.0\n",
      "4   -1000.0\n",
      "5       3.0\n",
      "dtype: float64 \n",
      "\n",
      "Replace one variable\n",
      "0       1.0\n",
      "1       NaN\n",
      "2       2.0\n",
      "3       NaN\n",
      "4   -1000.0\n",
      "5       3.0\n",
      "dtype: float64 \n",
      "\n",
      "Replace Multiplace values\n",
      "0    1.0\n",
      "1    NaN\n",
      "2    2.0\n",
      "3    NaN\n",
      "4    NaN\n",
      "5    3.0\n",
      "dtype: float64 \n",
      "\n",
      "Different replacement for each value using list \n",
      "0       1.0\n",
      "1       NaN\n",
      "2       2.0\n",
      "3       NaN\n",
      "4   -1000.0\n",
      "5       3.0\n",
      "dtype: float64 \n",
      "\n",
      "Arguments passed using dict\n",
      "0    1.0\n",
      "1    NaN\n",
      "2    2.0\n",
      "3    NaN\n",
      "4    0.0\n",
      "5    3.0\n",
      "dtype: float64 \n",
      "\n"
     ]
    }
   ],
   "source": [
    "dfnum = pd.Series([1.,-999,2.,-999,-1000.,3.])\n",
    "\n",
    "print('Original Data')\n",
    "print(dfnum,'\\n')\n",
    "\n",
    "print('Replace one variable')\n",
    "df_replaced_1 = dfnum.replace(-999,np.nan)\n",
    "print(df_replaced_1,'\\n')\n",
    "\n",
    "print('Replace Multiplace values')\n",
    "df_replaced_2 = dfnum.replace([-999,-1000],np.nan)\n",
    "print(df_replaced_2,'\\n')\n",
    "\n",
    "print('Different replacement for each value using list ')\n",
    "df_replaced_3 = dfnum.replace([-999,-100],[np.nan,0])\n",
    "print(df_replaced_3,'\\n')\n",
    "\n",
    "print('Arguments passed using dict')\n",
    "df_replaced_4 = dfnum.replace ({-999:np.nan,-1000:0})\n",
    "print(df_replaced_4,'\\n')\n"
   ]
  },
  {
   "cell_type": "markdown",
   "metadata": {},
   "source": [
    "Renaming Axis Index"
   ]
  },
  {
   "cell_type": "code",
   "execution_count": 3,
   "metadata": {},
   "outputs": [
    {
     "name": "stdout",
     "output_type": "stream",
     "text": [
      "Index(['OHIO', 'COLO', 'NEW '], dtype='object')\n",
      "Index(['OHIO', 'COLO', 'NEW '], dtype='object')\n",
      "\n",
      " Original DataFrame\n",
      "      one  two  three  four\n",
      "OHIO    0    1      2     3\n",
      "COLO    4    5      6     7\n",
      "NEW     8    9     10    11\n",
      "\n",
      " UpperCase\n",
      "      ONE  TWO  THREE  FOUR\n",
      "Ohio    0    1      2     3\n",
      "Colo    4    5      6     7\n",
      "New     8    9     10    11\n",
      "\n",
      " Rename\n",
      "         one  two  peekaboo  four\n",
      "Indiana    0    1         2     3\n",
      "Colo       4    5         6     7\n",
      "New        8    9        10    11\n",
      "\n",
      " Rename + inplace=true\n",
      "      one  two  three  four\n",
      "OHIO    0    1      2     3\n",
      "COLO    4    5      6     7\n",
      "NEW     8    9     10    11\n",
      "         one  two  three  four\n",
      "INDIANA    0    1      2     3\n",
      "COLO       4    5      6     7\n",
      "NEW        8    9     10    11\n"
     ]
    }
   ],
   "source": [
    "dfcity= pd.DataFrame(np.arange(12).reshape((3,4)),\n",
    "index =['Ohio','Colorado','New York'],\n",
    "columns=['one','two','three','four'])\n",
    "\n",
    "transform = lambda x:x[:4].upper()\n",
    "print (dfcity.index.map(transform))\n",
    "\n",
    "dfcity.index = dfcity.index.map(transform)\n",
    "print(dfcity.index)\n",
    "\n",
    "print ('\\n Original DataFrame')\n",
    "print(dfcity)\n",
    "\n",
    "print ('\\n UpperCase')\n",
    "dfcity_upper = dfcity.rename(index=str.title,columns=str.upper)\n",
    "print(dfcity_upper)\n",
    "\n",
    "print('\\n Rename')\n",
    "dfcity_rename = dfcity.rename(index={'OHIO':'INDIANA'},columns={'three':'peekaboo'})\n",
    "print(dfcity_rename.rename(index=str.title))\n",
    "\n",
    "\n",
    "print('\\n Rename + inplace=true')\n",
    "print(dfcity)\n",
    "dfcity_inplace = dfcity.rename(index={'OHIO':'INDIANA'},inplace=False)\n",
    "print(dfcity_inplace)"
   ]
  },
  {
   "cell_type": "markdown",
   "metadata": {},
   "source": [
    "Discretization & Binning"
   ]
  },
  {
   "cell_type": "code",
   "execution_count": 4,
   "metadata": {},
   "outputs": [
    {
     "name": "stdout",
     "output_type": "stream",
     "text": [
      "[(18, 25], (18, 25], (18, 25], (25, 35], (18, 25], ..., (35, 60], (60, 100], (35, 60], (35, 60], (25, 35]]\n",
      "Length: 11\n",
      "Categories (4, interval[int64, right]): [(18, 25] < (25, 35] < (35, 60] < (60, 100]]\n",
      "\n",
      " Codes:\n",
      " [0 0 0 1 0 0 2 3 2 2 1]\n",
      "\n",
      " Categoreis:\n",
      " IntervalIndex([(18, 25], (25, 35], (35, 60], (60, 100]], dtype='interval[int64, right]')\n",
      "\n",
      " (18, 25]     5\n",
      "(35, 60]     3\n",
      "(25, 35]     2\n",
      "(60, 100]    1\n",
      "dtype: int64\n",
      "\n",
      "\n",
      "['Youth', 'YoungAdult', 'MiddleAged', 'Senior']\n",
      "\n",
      "Bins with right-closed intervals (left side open):\n",
      " [[18, 26), [18, 26), [18, 26), [26, 36), [18, 26), ..., [36, 61), [61, 100), [36, 61), [36, 61), [26, 36)]\n",
      "Length: 11\n",
      "Categories (4, interval[int64, left]): [[18, 26) < [26, 36) < [36, 61) < [61, 100)]\n",
      "\n",
      "\n",
      "Bins with custom labels:\n",
      " ['Youth', 'Youth', 'Youth', 'YoungAdult', 'Youth', ..., 'MiddleAged', 'MiddleAged', 'MiddleAged', 'MiddleAged', 'YoungAdult']\n",
      "Length: 11\n",
      "Categories (4, object): ['Youth' < 'YoungAdult' < 'MiddleAged' < 'Senior']\n"
     ]
    }
   ],
   "source": [
    "ages = [20, 22, 25, 27, 21, 23, 37, 61, 45, 41, 32]\n",
    "\n",
    "bins = [18, 25, 35, 60, 100]\n",
    "\n",
    "cats = pd.cut(ages, bins)\n",
    "\n",
    "print(cats)\n",
    "print(\"\\n Codes:\\n\", cats.codes)\n",
    "print(\"\\n Categoreis:\\n\", cats.categories)\n",
    "print(\"\\n\", pd.value_counts(cats)) \n",
    "print(\"\\n\")\n",
    "\n",
    "right_closed_cats = pd.cut(ages, [18, 26, 36, 61, 100], right=False)\n",
    "\n",
    "# Define custom bin names using the labels option\n",
    "group_names = ['Youth', 'YoungAdult', 'MiddleAged', 'Senior']\n",
    "print (group_names)\n",
    "\n",
    "# Apply pd.cut with custom bin names\n",
    "custom_labeled_cats = pd.cut(ages, [18, 26, 36, 61, 100], labels=group_names)\n",
    "\n",
    "print(\"\\nBins with right-closed intervals (left side open):\\n\", right_closed_cats)\n",
    "print(\"\\n\\nBins with custom labels:\\n\", custom_labeled_cats)"
   ]
  },
  {
   "cell_type": "code",
   "execution_count": 5,
   "metadata": {},
   "outputs": [
    {
     "data": {
      "text/plain": [
       "[(0.24, 0.49], (0.73, 0.97], (0.73, 0.97], (0.49, 0.73], (0.24, 0.49], ..., (0.49, 0.73], (0.49, 0.73], (0.73, 0.97], (0.73, 0.97], (0.49, 0.73]]\n",
       "Length: 20\n",
       "Categories (4, interval[float64, right]): [(0.0016, 0.24] < (0.24, 0.49] < (0.49, 0.73] < (0.73, 0.97]]"
      ]
     },
     "execution_count": 5,
     "metadata": {},
     "output_type": "execute_result"
    }
   ],
   "source": [
    "data = np.random.rand(20)\n",
    "pd.cut(data, 4, precision=2) "
   ]
  },
  {
   "cell_type": "code",
   "execution_count": 6,
   "metadata": {},
   "outputs": [
    {
     "name": "stdout",
     "output_type": "stream",
     "text": [
      "Data [ 1.13382594 -0.081399   -1.69773669 -0.24104064 -0.01481209 -0.03716666\n",
      "  1.15712933 -0.14676044 -0.08822829 -0.17384159] \n",
      "\n",
      "Cat [(-0.0204, 1.157], (-0.0848, -0.0204], (-1.6989999999999998, -0.167], (-1.6989999999999998, -0.167], (-0.0204, 1.157], (-0.0848, -0.0204], (-0.0204, 1.157], (-0.167, -0.0848], (-0.167, -0.0848], (-1.6989999999999998, -0.167]]\n",
      "Categories (4, interval[float64, right]): [(-1.6989999999999998, -0.167] < (-0.167, -0.0848] < (-0.0848, -0.0204] < (-0.0204, 1.157]]\n"
     ]
    }
   ],
   "source": [
    "data = np.random.randn(10) # Normally distributed\n",
    "print (\"Data\",data,\"\\n\")\n",
    "cats = pd.qcut(data, 4) # Cut into quartiles\n",
    "print(\"Cat\",cats)"
   ]
  },
  {
   "cell_type": "code",
   "execution_count": 7,
   "metadata": {},
   "outputs": [
    {
     "name": "stdout",
     "output_type": "stream",
     "text": [
      "Cat: [(-0.0848, 1.136], (-0.0848, 1.136], (-1.6989999999999998, -0.387], (-0.387, -0.0848], (-0.0848, 1.136], (-0.0848, 1.136], (1.136, 1.157], (-0.387, -0.0848], (-0.387, -0.0848], (-0.387, -0.0848]]\n",
      "Categories (4, interval[float64, right]): [(-1.6989999999999998, -0.387] < (-0.387, -0.0848] < (-0.0848, 1.136] < (1.136, 1.157]]\n"
     ]
    }
   ],
   "source": [
    "cats = pd.qcut(data, [0, 0.1, 0.5, 0.9, 1.])\n",
    "print (\"Cat:\",cats)"
   ]
  }
 ],
 "metadata": {
  "kernelspec": {
   "display_name": "APDA",
   "language": "python",
   "name": "python3"
  },
  "language_info": {
   "codemirror_mode": {
    "name": "ipython",
    "version": 3
   },
   "file_extension": ".py",
   "mimetype": "text/x-python",
   "name": "python",
   "nbconvert_exporter": "python",
   "pygments_lexer": "ipython3",
   "version": "3.11.4"
  },
  "orig_nbformat": 4
 },
 "nbformat": 4,
 "nbformat_minor": 2
}
