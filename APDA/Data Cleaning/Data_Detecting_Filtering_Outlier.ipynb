{
 "cells": [
  {
   "cell_type": "code",
   "execution_count": 134,
   "metadata": {},
   "outputs": [
    {
     "name": "stdout",
     "output_type": "stream",
     "text": [
      "           0         1         2         3\n",
      "0  -1.450009  1.359142 -1.327007  0.483283\n",
      "1  -0.184898 -0.841008 -0.288439 -0.250098\n",
      "2  -0.696157 -0.633107  0.721091 -0.986651\n",
      "3  -0.388462 -0.720607  2.060820 -0.250509\n",
      "4  -1.881721  1.659202 -0.878042  0.891667\n",
      "..       ...       ...       ...       ...\n",
      "95 -1.053702  1.845535 -0.898571  1.483573\n",
      "96 -0.808991  1.533589 -0.424389  1.129951\n",
      "97 -0.119545  0.909522  0.581598 -0.394668\n",
      "98  0.422907 -0.610420  0.003429 -0.529256\n",
      "99  0.627368 -0.028817  1.160282 -0.235156\n",
      "\n",
      "[100 rows x 4 columns]\n"
     ]
    },
    {
     "data": {
      "text/html": [
       "<div>\n",
       "<style scoped>\n",
       "    .dataframe tbody tr th:only-of-type {\n",
       "        vertical-align: middle;\n",
       "    }\n",
       "\n",
       "    .dataframe tbody tr th {\n",
       "        vertical-align: top;\n",
       "    }\n",
       "\n",
       "    .dataframe thead th {\n",
       "        text-align: right;\n",
       "    }\n",
       "</style>\n",
       "<table border=\"1\" class=\"dataframe\">\n",
       "  <thead>\n",
       "    <tr style=\"text-align: right;\">\n",
       "      <th></th>\n",
       "      <th>0</th>\n",
       "      <th>1</th>\n",
       "      <th>2</th>\n",
       "      <th>3</th>\n",
       "    </tr>\n",
       "  </thead>\n",
       "  <tbody>\n",
       "    <tr>\n",
       "      <th>count</th>\n",
       "      <td>100.000000</td>\n",
       "      <td>100.000000</td>\n",
       "      <td>100.000000</td>\n",
       "      <td>100.000000</td>\n",
       "    </tr>\n",
       "    <tr>\n",
       "      <th>mean</th>\n",
       "      <td>-0.063058</td>\n",
       "      <td>-0.113220</td>\n",
       "      <td>0.081687</td>\n",
       "      <td>-0.031064</td>\n",
       "    </tr>\n",
       "    <tr>\n",
       "      <th>std</th>\n",
       "      <td>0.950705</td>\n",
       "      <td>0.941297</td>\n",
       "      <td>1.001953</td>\n",
       "      <td>1.042683</td>\n",
       "    </tr>\n",
       "    <tr>\n",
       "      <th>min</th>\n",
       "      <td>-2.635737</td>\n",
       "      <td>-2.223513</td>\n",
       "      <td>-2.646895</td>\n",
       "      <td>-2.295634</td>\n",
       "    </tr>\n",
       "    <tr>\n",
       "      <th>25%</th>\n",
       "      <td>-0.713031</td>\n",
       "      <td>-0.841021</td>\n",
       "      <td>-0.552890</td>\n",
       "      <td>-0.801257</td>\n",
       "    </tr>\n",
       "    <tr>\n",
       "      <th>50%</th>\n",
       "      <td>-0.082420</td>\n",
       "      <td>-0.220002</td>\n",
       "      <td>0.025827</td>\n",
       "      <td>-0.026099</td>\n",
       "    </tr>\n",
       "    <tr>\n",
       "      <th>75%</th>\n",
       "      <td>0.559089</td>\n",
       "      <td>0.526160</td>\n",
       "      <td>0.807026</td>\n",
       "      <td>0.627692</td>\n",
       "    </tr>\n",
       "    <tr>\n",
       "      <th>max</th>\n",
       "      <td>2.695703</td>\n",
       "      <td>2.101591</td>\n",
       "      <td>2.635706</td>\n",
       "      <td>3.219442</td>\n",
       "    </tr>\n",
       "  </tbody>\n",
       "</table>\n",
       "</div>"
      ],
      "text/plain": [
       "                0           1           2           3\n",
       "count  100.000000  100.000000  100.000000  100.000000\n",
       "mean    -0.063058   -0.113220    0.081687   -0.031064\n",
       "std      0.950705    0.941297    1.001953    1.042683\n",
       "min     -2.635737   -2.223513   -2.646895   -2.295634\n",
       "25%     -0.713031   -0.841021   -0.552890   -0.801257\n",
       "50%     -0.082420   -0.220002    0.025827   -0.026099\n",
       "75%      0.559089    0.526160    0.807026    0.627692\n",
       "max      2.695703    2.101591    2.635706    3.219442"
      ]
     },
     "execution_count": 134,
     "metadata": {},
     "output_type": "execute_result"
    }
   ],
   "source": [
    "import pandas as pd\n",
    "import numpy as np\n",
    "\n",
    "data = pd.DataFrame(np.random.randn(100, 4))\n",
    "print(data)\n",
    "data.describe()\n"
   ]
  },
  {
   "cell_type": "markdown",
   "metadata": {},
   "source": [
    "Looking Outlier in Columns"
   ]
  },
  {
   "cell_type": "code",
   "execution_count": 135,
   "metadata": {},
   "outputs": [
    {
     "name": "stdout",
     "output_type": "stream",
     "text": [
      "0    -1.327007\n",
      "1    -0.288439\n",
      "2     0.721091\n",
      "3     2.060820\n",
      "4    -0.878042\n",
      "        ...   \n",
      "95   -0.898571\n",
      "96   -0.424389\n",
      "97    0.581598\n",
      "98    0.003429\n",
      "99    1.160282\n",
      "Name: 2, Length: 100, dtype: float64\n"
     ]
    },
    {
     "data": {
      "text/plain": [
       "Series([], Name: 2, dtype: float64)"
      ]
     },
     "execution_count": 135,
     "metadata": {},
     "output_type": "execute_result"
    }
   ],
   "source": [
    "col = data[2]\n",
    "print (col)\n",
    "abscol = col[np.abs(col) > 3]\n",
    "abscol\n"
   ]
  },
  {
   "cell_type": "markdown",
   "metadata": {},
   "source": [
    "Looking Outlier that above 3 in a row"
   ]
  },
  {
   "cell_type": "code",
   "execution_count": 136,
   "metadata": {},
   "outputs": [
    {
     "name": "stderr",
     "output_type": "stream",
     "text": [
      "C:\\Users\\yamin\\AppData\\Local\\Temp\\ipykernel_14304\\2671033683.py:1: FutureWarning: In a future version of pandas all arguments of DataFrame.any and Series.any will be keyword-only.\n",
      "  data[(np.absolute(data) > 3).any(1)]\n"
     ]
    },
    {
     "data": {
      "text/html": [
       "<div>\n",
       "<style scoped>\n",
       "    .dataframe tbody tr th:only-of-type {\n",
       "        vertical-align: middle;\n",
       "    }\n",
       "\n",
       "    .dataframe tbody tr th {\n",
       "        vertical-align: top;\n",
       "    }\n",
       "\n",
       "    .dataframe thead th {\n",
       "        text-align: right;\n",
       "    }\n",
       "</style>\n",
       "<table border=\"1\" class=\"dataframe\">\n",
       "  <thead>\n",
       "    <tr style=\"text-align: right;\">\n",
       "      <th></th>\n",
       "      <th>0</th>\n",
       "      <th>1</th>\n",
       "      <th>2</th>\n",
       "      <th>3</th>\n",
       "    </tr>\n",
       "  </thead>\n",
       "  <tbody>\n",
       "    <tr>\n",
       "      <th>91</th>\n",
       "      <td>-1.612457</td>\n",
       "      <td>-0.761773</td>\n",
       "      <td>-1.668326</td>\n",
       "      <td>3.219442</td>\n",
       "    </tr>\n",
       "  </tbody>\n",
       "</table>\n",
       "</div>"
      ],
      "text/plain": [
       "           0         1         2         3\n",
       "91 -1.612457 -0.761773 -1.668326  3.219442"
      ]
     },
     "execution_count": 136,
     "metadata": {},
     "output_type": "execute_result"
    }
   ],
   "source": [
    "data[(np.absolute(data) > 3).any(1)]"
   ]
  },
  {
   "cell_type": "code",
   "execution_count": 137,
   "metadata": {},
   "outputs": [
    {
     "data": {
      "text/html": [
       "<div>\n",
       "<style scoped>\n",
       "    .dataframe tbody tr th:only-of-type {\n",
       "        vertical-align: middle;\n",
       "    }\n",
       "\n",
       "    .dataframe tbody tr th {\n",
       "        vertical-align: top;\n",
       "    }\n",
       "\n",
       "    .dataframe thead th {\n",
       "        text-align: right;\n",
       "    }\n",
       "</style>\n",
       "<table border=\"1\" class=\"dataframe\">\n",
       "  <thead>\n",
       "    <tr style=\"text-align: right;\">\n",
       "      <th></th>\n",
       "      <th>0</th>\n",
       "      <th>1</th>\n",
       "      <th>2</th>\n",
       "      <th>3</th>\n",
       "    </tr>\n",
       "  </thead>\n",
       "  <tbody>\n",
       "    <tr>\n",
       "      <th>count</th>\n",
       "      <td>100.000000</td>\n",
       "      <td>100.000000</td>\n",
       "      <td>100.000000</td>\n",
       "      <td>100.000000</td>\n",
       "    </tr>\n",
       "    <tr>\n",
       "      <th>mean</th>\n",
       "      <td>-0.063058</td>\n",
       "      <td>-0.113220</td>\n",
       "      <td>0.081687</td>\n",
       "      <td>-0.031064</td>\n",
       "    </tr>\n",
       "    <tr>\n",
       "      <th>std</th>\n",
       "      <td>0.950705</td>\n",
       "      <td>0.941297</td>\n",
       "      <td>1.001953</td>\n",
       "      <td>1.042683</td>\n",
       "    </tr>\n",
       "    <tr>\n",
       "      <th>min</th>\n",
       "      <td>-2.635737</td>\n",
       "      <td>-2.223513</td>\n",
       "      <td>-2.646895</td>\n",
       "      <td>-2.295634</td>\n",
       "    </tr>\n",
       "    <tr>\n",
       "      <th>25%</th>\n",
       "      <td>-0.713031</td>\n",
       "      <td>-0.841021</td>\n",
       "      <td>-0.552890</td>\n",
       "      <td>-0.801257</td>\n",
       "    </tr>\n",
       "    <tr>\n",
       "      <th>50%</th>\n",
       "      <td>-0.082420</td>\n",
       "      <td>-0.220002</td>\n",
       "      <td>0.025827</td>\n",
       "      <td>-0.026099</td>\n",
       "    </tr>\n",
       "    <tr>\n",
       "      <th>75%</th>\n",
       "      <td>0.559089</td>\n",
       "      <td>0.526160</td>\n",
       "      <td>0.807026</td>\n",
       "      <td>0.627692</td>\n",
       "    </tr>\n",
       "    <tr>\n",
       "      <th>max</th>\n",
       "      <td>2.695703</td>\n",
       "      <td>2.101591</td>\n",
       "      <td>2.635706</td>\n",
       "      <td>3.219442</td>\n",
       "    </tr>\n",
       "  </tbody>\n",
       "</table>\n",
       "</div>"
      ],
      "text/plain": [
       "                0           1           2           3\n",
       "count  100.000000  100.000000  100.000000  100.000000\n",
       "mean    -0.063058   -0.113220    0.081687   -0.031064\n",
       "std      0.950705    0.941297    1.001953    1.042683\n",
       "min     -2.635737   -2.223513   -2.646895   -2.295634\n",
       "25%     -0.713031   -0.841021   -0.552890   -0.801257\n",
       "50%     -0.082420   -0.220002    0.025827   -0.026099\n",
       "75%      0.559089    0.526160    0.807026    0.627692\n",
       "max      2.695703    2.101591    2.635706    3.219442"
      ]
     },
     "execution_count": 137,
     "metadata": {},
     "output_type": "execute_result"
    }
   ],
   "source": [
    "data.describe()"
   ]
  },
  {
   "cell_type": "markdown",
   "metadata": {},
   "source": [
    "Normallize data"
   ]
  },
  {
   "cell_type": "code",
   "execution_count": 138,
   "metadata": {},
   "outputs": [
    {
     "name": "stdout",
     "output_type": "stream",
     "text": [
      "      0    1    2    3\n",
      "0  -3.0  3.0 -3.0  3.0\n",
      "1  -3.0 -3.0 -3.0 -3.0\n",
      "2  -3.0 -3.0  3.0 -3.0\n",
      "3  -3.0 -3.0  3.0 -3.0\n",
      "4  -3.0  3.0 -3.0  3.0\n",
      "..  ...  ...  ...  ...\n",
      "95 -3.0  3.0 -3.0  3.0\n",
      "96 -3.0  3.0 -3.0  3.0\n",
      "97 -3.0  3.0  3.0 -3.0\n",
      "98  3.0 -3.0  3.0 -3.0\n",
      "99  3.0 -3.0  3.0 -3.0\n",
      "\n",
      "[100 rows x 4 columns]\n"
     ]
    },
    {
     "data": {
      "text/html": [
       "<div>\n",
       "<style scoped>\n",
       "    .dataframe tbody tr th:only-of-type {\n",
       "        vertical-align: middle;\n",
       "    }\n",
       "\n",
       "    .dataframe tbody tr th {\n",
       "        vertical-align: top;\n",
       "    }\n",
       "\n",
       "    .dataframe thead th {\n",
       "        text-align: right;\n",
       "    }\n",
       "</style>\n",
       "<table border=\"1\" class=\"dataframe\">\n",
       "  <thead>\n",
       "    <tr style=\"text-align: right;\">\n",
       "      <th></th>\n",
       "      <th>0</th>\n",
       "      <th>1</th>\n",
       "      <th>2</th>\n",
       "      <th>3</th>\n",
       "    </tr>\n",
       "  </thead>\n",
       "  <tbody>\n",
       "    <tr>\n",
       "      <th>count</th>\n",
       "      <td>100.000000</td>\n",
       "      <td>100.000000</td>\n",
       "      <td>100.000000</td>\n",
       "      <td>100.000000</td>\n",
       "    </tr>\n",
       "    <tr>\n",
       "      <th>mean</th>\n",
       "      <td>-0.063058</td>\n",
       "      <td>-0.113220</td>\n",
       "      <td>0.081687</td>\n",
       "      <td>-0.033258</td>\n",
       "    </tr>\n",
       "    <tr>\n",
       "      <th>std</th>\n",
       "      <td>0.950705</td>\n",
       "      <td>0.941297</td>\n",
       "      <td>1.001953</td>\n",
       "      <td>1.035982</td>\n",
       "    </tr>\n",
       "    <tr>\n",
       "      <th>min</th>\n",
       "      <td>-2.635737</td>\n",
       "      <td>-2.223513</td>\n",
       "      <td>-2.646895</td>\n",
       "      <td>-2.295634</td>\n",
       "    </tr>\n",
       "    <tr>\n",
       "      <th>25%</th>\n",
       "      <td>-0.713031</td>\n",
       "      <td>-0.841021</td>\n",
       "      <td>-0.552890</td>\n",
       "      <td>-0.801257</td>\n",
       "    </tr>\n",
       "    <tr>\n",
       "      <th>50%</th>\n",
       "      <td>-0.082420</td>\n",
       "      <td>-0.220002</td>\n",
       "      <td>0.025827</td>\n",
       "      <td>-0.026099</td>\n",
       "    </tr>\n",
       "    <tr>\n",
       "      <th>75%</th>\n",
       "      <td>0.559089</td>\n",
       "      <td>0.526160</td>\n",
       "      <td>0.807026</td>\n",
       "      <td>0.627692</td>\n",
       "    </tr>\n",
       "    <tr>\n",
       "      <th>max</th>\n",
       "      <td>2.695703</td>\n",
       "      <td>2.101591</td>\n",
       "      <td>2.635706</td>\n",
       "      <td>3.000000</td>\n",
       "    </tr>\n",
       "  </tbody>\n",
       "</table>\n",
       "</div>"
      ],
      "text/plain": [
       "                0           1           2           3\n",
       "count  100.000000  100.000000  100.000000  100.000000\n",
       "mean    -0.063058   -0.113220    0.081687   -0.033258\n",
       "std      0.950705    0.941297    1.001953    1.035982\n",
       "min     -2.635737   -2.223513   -2.646895   -2.295634\n",
       "25%     -0.713031   -0.841021   -0.552890   -0.801257\n",
       "50%     -0.082420   -0.220002    0.025827   -0.026099\n",
       "75%      0.559089    0.526160    0.807026    0.627692\n",
       "max      2.695703    2.101591    2.635706    3.000000"
      ]
     },
     "execution_count": 138,
     "metadata": {},
     "output_type": "execute_result"
    }
   ],
   "source": [
    "Filtered_data = data[np.abs(data) > 3] = np.sign(data) * 3\n",
    "print (Filtered_data)\n",
    "data.describe()\n"
   ]
  },
  {
   "cell_type": "code",
   "execution_count": 139,
   "metadata": {},
   "outputs": [
    {
     "data": {
      "text/html": [
       "<div>\n",
       "<style scoped>\n",
       "    .dataframe tbody tr th:only-of-type {\n",
       "        vertical-align: middle;\n",
       "    }\n",
       "\n",
       "    .dataframe tbody tr th {\n",
       "        vertical-align: top;\n",
       "    }\n",
       "\n",
       "    .dataframe thead th {\n",
       "        text-align: right;\n",
       "    }\n",
       "</style>\n",
       "<table border=\"1\" class=\"dataframe\">\n",
       "  <thead>\n",
       "    <tr style=\"text-align: right;\">\n",
       "      <th></th>\n",
       "      <th>0</th>\n",
       "      <th>1</th>\n",
       "      <th>2</th>\n",
       "      <th>3</th>\n",
       "    </tr>\n",
       "  </thead>\n",
       "  <tbody>\n",
       "    <tr>\n",
       "      <th>0</th>\n",
       "      <td>-1.0</td>\n",
       "      <td>1.0</td>\n",
       "      <td>-1.0</td>\n",
       "      <td>1.0</td>\n",
       "    </tr>\n",
       "    <tr>\n",
       "      <th>1</th>\n",
       "      <td>-1.0</td>\n",
       "      <td>-1.0</td>\n",
       "      <td>-1.0</td>\n",
       "      <td>-1.0</td>\n",
       "    </tr>\n",
       "    <tr>\n",
       "      <th>2</th>\n",
       "      <td>-1.0</td>\n",
       "      <td>-1.0</td>\n",
       "      <td>1.0</td>\n",
       "      <td>-1.0</td>\n",
       "    </tr>\n",
       "    <tr>\n",
       "      <th>3</th>\n",
       "      <td>-1.0</td>\n",
       "      <td>-1.0</td>\n",
       "      <td>1.0</td>\n",
       "      <td>-1.0</td>\n",
       "    </tr>\n",
       "    <tr>\n",
       "      <th>4</th>\n",
       "      <td>-1.0</td>\n",
       "      <td>1.0</td>\n",
       "      <td>-1.0</td>\n",
       "      <td>1.0</td>\n",
       "    </tr>\n",
       "  </tbody>\n",
       "</table>\n",
       "</div>"
      ],
      "text/plain": [
       "     0    1    2    3\n",
       "0 -1.0  1.0 -1.0  1.0\n",
       "1 -1.0 -1.0 -1.0 -1.0\n",
       "2 -1.0 -1.0  1.0 -1.0\n",
       "3 -1.0 -1.0  1.0 -1.0\n",
       "4 -1.0  1.0 -1.0  1.0"
      ]
     },
     "execution_count": 139,
     "metadata": {},
     "output_type": "execute_result"
    }
   ],
   "source": [
    "np.sign(data).head()\n"
   ]
  },
  {
   "cell_type": "code",
   "execution_count": 140,
   "metadata": {},
   "outputs": [
    {
     "name": "stdout",
     "output_type": "stream",
     "text": [
      "1\n"
     ]
    }
   ],
   "source": [
    "x = -5\n",
    "y = 10.5\n",
    "z = -3 + 4  # Complex number\n",
    "\n",
    "abs_x = abs(x)  # abs_x will be 5\n",
    "abs_y = abs(y)  # abs_y will be 10.5\n",
    "abs_z = abs(z)  # abs_z will be the magnitude of the complex number (5.0 in this case)\n",
    "print (abs_z)\n"
   ]
  }
 ],
 "metadata": {
  "kernelspec": {
   "display_name": "APDA",
   "language": "python",
   "name": "python3"
  },
  "language_info": {
   "codemirror_mode": {
    "name": "ipython",
    "version": 3
   },
   "file_extension": ".py",
   "mimetype": "text/x-python",
   "name": "python",
   "nbconvert_exporter": "python",
   "pygments_lexer": "ipython3",
   "version": "3.11.4"
  },
  "orig_nbformat": 4
 },
 "nbformat": 4,
 "nbformat_minor": 2
}
