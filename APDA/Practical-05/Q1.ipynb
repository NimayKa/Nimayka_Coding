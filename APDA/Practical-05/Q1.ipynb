{
 "cells": [
  {
   "cell_type": "code",
   "execution_count": 17,
   "metadata": {},
   "outputs": [
    {
     "name": "stdout",
     "output_type": "stream",
     "text": [
      "kNN:\n",
      "Accuracy: 0.967\n",
      "Recall: 0.967\n",
      "Precision: 0.967\n",
      "F1 Score: 0.967\n",
      "Confusion Matrix:\n",
      "[[50  0  0]\n",
      " [ 0 47  3]\n",
      " [ 0  2 48]]\n"
     ]
    }
   ],
   "source": [
    "from sklearn.datasets import load_iris\n",
    "from sklearn.model_selection import train_test_split, cross_val_predict\n",
    "from sklearn.neighbors import KNeighborsClassifier\n",
    "from sklearn.naive_bayes import GaussianNB\n",
    "from sklearn.tree import DecisionTreeClassifier\n",
    "from sklearn.svm import SVC\n",
    "from sklearn.metrics import accuracy_score, recall_score, precision_score, f1_score, confusion_matrix\n",
    "\n",
    "# Load the Iris dataset\n",
    "iris = load_iris()\n",
    "X = iris.data\n",
    "y = iris.target\n",
    "\n",
    "# Split the data into training and testing sets\n",
    "X_train, X_test, y_train, y_test = train_test_split(X, y, test_size=0.2, random_state=42)\n",
    "\n",
    "# a) kNN\n",
    "knn = KNeighborsClassifier(n_neighbors=3)\n",
    "y_pred_knn = cross_val_predict(knn, X, y, cv=5)\n",
    "accuracy_knn = accuracy_score(y, y_pred_knn)\n",
    "recall_knn = recall_score(y, y_pred_knn, average='weighted')\n",
    "precision_knn = precision_score(y, y_pred_knn, average='weighted')\n",
    "f1_knn = f1_score(y, y_pred_knn, average='weighted')\n",
    "cm_knn = confusion_matrix(y, y_pred_knn)\n",
    "\n",
    "# Print the results\n",
    "print(\"kNN:\")\n",
    "print(f\"Accuracy: {accuracy_knn:.3f}\")\n",
    "print(f\"Recall: {recall_knn:.3f}\")\n",
    "print(f\"Precision: {precision_knn:.3f}\")\n",
    "print(f\"F1 Score: {f1_knn:.3f}\")\n",
    "print(\"Confusion Matrix:\")\n",
    "print(cm_knn)\n"
   ]
  },
  {
   "cell_type": "code",
   "execution_count": 18,
   "metadata": {},
   "outputs": [
    {
     "name": "stdout",
     "output_type": "stream",
     "text": [
      "Naïve Bayes:\n",
      "Accuracy: 0.953\n",
      "Recall: 0.953\n",
      "Precision: 0.953\n",
      "F1 Score: 0.953\n",
      "Confusion Matrix:\n",
      "[[50  0  0]\n",
      " [ 0 47  3]\n",
      " [ 0  4 46]]\n"
     ]
    }
   ],
   "source": [
    "# b) Naïve Bayes\n",
    "nb = GaussianNB()\n",
    "y_pred_nb = cross_val_predict(nb, X, y, cv=5)\n",
    "accuracy_nb = accuracy_score(y, y_pred_nb)\n",
    "recall_nb = recall_score(y, y_pred_nb, average='weighted')\n",
    "precision_nb = precision_score(y, y_pred_nb, average='weighted')\n",
    "f1_nb = f1_score(y, y_pred_nb, average='weighted')\n",
    "cm_nb = confusion_matrix(y, y_pred_nb)\n",
    "\n",
    "print(\"Naïve Bayes:\")\n",
    "print(f\"Accuracy: {accuracy_nb:.3f}\")\n",
    "print(f\"Recall: {recall_nb:.3f}\")\n",
    "print(f\"Precision: {precision_nb:.3f}\")\n",
    "print(f\"F1 Score: {f1_nb:.3f}\")\n",
    "print(\"Confusion Matrix:\")\n",
    "print(cm_nb)"
   ]
  },
  {
   "cell_type": "code",
   "execution_count": 19,
   "metadata": {},
   "outputs": [
    {
     "name": "stdout",
     "output_type": "stream",
     "text": [
      "Decision Trees:\n",
      "Accuracy: 0.953\n",
      "Confusion Matrix:\n",
      "[[50  0  0]\n",
      " [ 0 47  3]\n",
      " [ 0  4 46]]\n"
     ]
    }
   ],
   "source": [
    "# c) Decision Trees\n",
    "dt = DecisionTreeClassifier()\n",
    "y_pred_dt = cross_val_predict(dt, X, y, cv=5)\n",
    "accuracy_dt = accuracy_score(y, y_pred_dt)\n",
    "cm_dt = confusion_matrix(y, y_pred_dt)\n",
    "\n",
    "print(\"Decision Trees:\")\n",
    "print(f\"Accuracy: {accuracy_dt:.3f}\")\n",
    "print(\"Confusion Matrix:\")\n",
    "print(cm_dt)"
   ]
  },
  {
   "cell_type": "code",
   "execution_count": 20,
   "metadata": {},
   "outputs": [
    {
     "name": "stdout",
     "output_type": "stream",
     "text": [
      "d) SVM:\n",
      "Accuracy: 0.967\n",
      "Recall: 0.967\n",
      "Precision: 0.967\n",
      "F1 Score: 0.967\n",
      "Confusion Matrix:\n",
      "[[50  0  0]\n",
      " [ 0 48  2]\n",
      " [ 0  3 47]]\n"
     ]
    }
   ],
   "source": [
    "\n",
    "svm = SVC()\n",
    "y_pred_svm = cross_val_predict(svm, X, y, cv=5)\n",
    "accuracy_svm = accuracy_score(y, y_pred_svm)\n",
    "recall_svm = recall_score(y, y_pred_svm, average='weighted')\n",
    "precision_svm = precision_score(y, y_pred_svm, average='weighted')\n",
    "f1_svm = f1_score(y, y_pred_svm, average='weighted')\n",
    "cm_svm = confusion_matrix(y, y_pred_svm)\n",
    "\n",
    "print(\"SVM:\")\n",
    "print(f\"Accuracy: {accuracy_svm:.3f}\")\n",
    "print(f\"Recall: {recall_svm:.3f}\")\n",
    "print(f\"Precision: {precision_svm:.3f}\")\n",
    "print(f\"F1 Score: {f1_svm:.3f}\")\n",
    "print(\"Confusion Matrix:\")\n",
    "print(cm_svm)"
   ]
  }
 ],
 "metadata": {
  "kernelspec": {
   "display_name": "APDA",
   "language": "python",
   "name": "python3"
  },
  "language_info": {
   "codemirror_mode": {
    "name": "ipython",
    "version": 3
   },
   "file_extension": ".py",
   "mimetype": "text/x-python",
   "name": "python",
   "nbconvert_exporter": "python",
   "pygments_lexer": "ipython3",
   "version": "3.11.4"
  }
 },
 "nbformat": 4,
 "nbformat_minor": 2
}
