{
 "cells": [
  {
   "cell_type": "code",
   "execution_count": 26,
   "metadata": {},
   "outputs": [
    {
     "name": "stdout",
     "output_type": "stream",
     "text": [
      "Checking Number: 123456789\n",
      "True\n",
      "Checking A&B: 123456789\n",
      "False\n",
      "Checking Delimitr (#)\n",
      "\n",
      "----------------------\n",
      "\n",
      "Checking Number: 123man\n",
      "False\n",
      "Checking A&B: 123man\n",
      "False\n",
      "Checking Delimitr (#)\n",
      "\n",
      "----------------------\n",
      "\n",
      "Checking Number: Absorb\n",
      "False\n",
      "Checking A&B: Absorb\n",
      "False\n",
      "Checking Delimitr (#)\n",
      "\n",
      "----------------------\n",
      "\n",
      "Checking Number: My#Name\n",
      "False\n",
      "Checking A&B: My#Name\n",
      "False\n",
      "Checking Delimitr (#)\n",
      "\n",
      "----------------------\n",
      "\n",
      "Checking Number: My$Name\n",
      "False\n",
      "Checking A&B: My$Name\n",
      "False\n",
      "Checking Delimitr (#)\n",
      "\n",
      "----------------------\n",
      "\n"
     ]
    }
   ],
   "source": [
    "import pandas as pd\n",
    "import re\n",
    "\n",
    "text = ['text']\n",
    "df = pd.read_table(\"employeesOther.txt\",header=None,names=text)\n",
    "\n",
    "def checkNum(string):\n",
    "    result = bool(re.search('123456789',string))\n",
    "    return result\n",
    "\n",
    "def checkAB(string):\n",
    "    result = string.startswith(\"a\") and string.endswith('b')\n",
    "    return result\n",
    "\n",
    "def  SplitDelimiter(string, Delimiter):\n",
    "    result = \"test\"\n",
    "    return result\n",
    "\n",
    "\n",
    "for index in df['text']:\n",
    "    print(\"Checking Number:\",index)\n",
    "    print(checkNum(index))\n",
    "    print(\"Checking A&B:\",index)\n",
    "    print(checkAB(index))\n",
    "    print(\"Checking Delimitr (#)\")\n",
    "    \n",
    "    print (\"\\n----------------------\\n\")\n",
    "    \n",
    "    \n",
    "    "
   ]
  }
 ],
 "metadata": {
  "kernelspec": {
   "display_name": "APDA",
   "language": "python",
   "name": "python3"
  },
  "language_info": {
   "codemirror_mode": {
    "name": "ipython",
    "version": 3
   },
   "file_extension": ".py",
   "mimetype": "text/x-python",
   "name": "python",
   "nbconvert_exporter": "python",
   "pygments_lexer": "ipython3",
   "version": "3.11.4"
  },
  "orig_nbformat": 4
 },
 "nbformat": 4,
 "nbformat_minor": 2
}
