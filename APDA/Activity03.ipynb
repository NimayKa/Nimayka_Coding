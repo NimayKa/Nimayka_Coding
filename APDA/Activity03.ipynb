{
 "cells": [
  {
   "cell_type": "code",
   "execution_count": 6,
   "metadata": {},
   "outputs": [
    {
     "name": "stdout",
     "output_type": "stream",
     "text": [
      "0     aardvark\n",
      "1    artichoke\n",
      "2          NaN\n",
      "3      avocado\n",
      "4         <NA>\n",
      "dtype: object\n",
      "0    False\n",
      "1    False\n",
      "2     True\n",
      "3    False\n",
      "4     True\n",
      "dtype: bool\n"
     ]
    }
   ],
   "source": [
    "import pandas as pd\n",
    "import numpy as np\n",
    "\n",
    "string_data = pd.Series(['aardvark','artichoke',np.NaN , 'avocado', pd.NA])\n",
    "\n",
    "print(string_data)\n",
    "print(string_data.isnull())\n"
   ]
  },
  {
   "cell_type": "code",
   "execution_count": 7,
   "metadata": {},
   "outputs": [
    {
     "name": "stdout",
     "output_type": "stream",
     "text": [
      "Before Replace Missing Value\n",
      "0    1.0\n",
      "1    NaN\n",
      "2    3.5\n",
      "3    NaN\n",
      "4    7.0\n",
      "dtype: float64\n",
      "\n",
      "\n",
      "After Replace Missing Value \n",
      "0    1.0\n",
      "2    3.5\n",
      "4    7.0\n",
      "dtype: float64\n",
      "0    1.0\n",
      "2    3.5\n",
      "4    7.0\n",
      "dtype: float64\n"
     ]
    }
   ],
   "source": [
    "from numpy import nan as NA \n",
    "\n",
    "data = pd.Series([1,NA,3.5,NA, 7])\n",
    "print ('Before Replace Missing Value')\n",
    "print (data)\n",
    "print ('\\n\\nAfter Replace Missing Value ')\n",
    "\n",
    "data_dropped = data.dropna()\n",
    "print (data_dropped)\n",
    "\n",
    "data_notnull = data[data.notnull()]\n",
    "print (data_notnull)"
   ]
  },
  {
   "cell_type": "code",
   "execution_count": 8,
   "metadata": {},
   "outputs": [
    {
     "name": "stdout",
     "output_type": "stream",
     "text": [
      "Before Replace Missing Value\n",
      "      0     1     2\n",
      "0   1.0   6.5   3.0\n",
      "1   1.0   NaN   NaN\n",
      "2   NaN   NaN   NaN\n",
      "3   NaN   6.5   3.0\n",
      "4  <NA>  <NA>  <NA>\n",
      "\n",
      "\n",
      "After Replace Missing Value\n",
      "     0    1    2\n",
      "0  1.0  6.5  3.0\n"
     ]
    }
   ],
   "source": [
    "import numpy as np\n",
    "import pandas as pd\n",
    "from numpy import nan as NA \n",
    "\n",
    "data = pd.DataFrame([[1., 6.5, 3.], [1., NA, NA], [NA, NA, NA], [NA, 6.5, 3.],[pd.NA,pd.NA,pd.NA]])\n",
    "print ('Before Replace Missing Value')\n",
    "print (data)\n",
    "\n",
    "print ('\\n\\nAfter Replace Missing Value')\n",
    "cleaned = data.dropna()\n",
    "print (cleaned)"
   ]
  },
  {
   "cell_type": "code",
   "execution_count": 9,
   "metadata": {},
   "outputs": [
    {
     "name": "stdout",
     "output_type": "stream",
     "text": [
      "Before Replace Missing Value\n",
      "      0     1     2\n",
      "0   1.0   6.5   3.0\n",
      "1   1.0   NaN   NaN\n",
      "2   NaN   NaN   NaN\n",
      "3   NaN   6.5   3.0\n",
      "4  <NA>  <NA>  <NA>\n",
      "\n",
      "\n",
      "After Replace Missing Value\n",
      "     0    1    2\n",
      "0  1.0  6.5  3.0\n",
      "1  1.0  NaN  NaN\n",
      "3  NaN  6.5  3.0\n"
     ]
    }
   ],
   "source": [
    "import numpy as np\n",
    "import pandas as pd\n",
    "from numpy import nan as NA \n",
    "\n",
    "data = pd.DataFrame([[1., 6.5, 3.], [1., NA, NA], [NA, NA, NA], [NA, 6.5, 3.],[pd.NA,pd.NA,pd.NA]])\n",
    "print ('Before Replace Missing Value')\n",
    "print (data)\n",
    "\n",
    "print ('\\n\\nAfter Replace Missing Value')\n",
    "cleaned = data.dropna(how='all')\n",
    "print (cleaned)"
   ]
  },
  {
   "cell_type": "code",
   "execution_count": 10,
   "metadata": {},
   "outputs": [
    {
     "name": "stdout",
     "output_type": "stream",
     "text": [
      "Before Drop NA and Threshold\n",
      "          0         1         2\n",
      "0  0.091632       NaN       NaN\n",
      "1 -0.821789       NaN       NaN\n",
      "2  0.693273       NaN  0.296830\n",
      "3 -0.896093       NaN  1.725254\n",
      "4 -0.342031 -0.216827 -0.315087\n",
      "5  1.511733  0.532793 -0.231400\n",
      "6  0.032967  0.471249 -0.607723\n",
      "\n",
      "\n",
      "Drop NA Function\n",
      "          0         1         2\n",
      "4 -0.342031 -0.216827 -0.315087\n",
      "5  1.511733  0.532793 -0.231400\n",
      "6  0.032967  0.471249 -0.607723\n",
      "\n",
      "\n",
      "Threshold\n",
      "          0         1         2\n",
      "2  0.693273       NaN  0.296830\n",
      "3 -0.896093       NaN  1.725254\n",
      "4 -0.342031 -0.216827 -0.315087\n",
      "5  1.511733  0.532793 -0.231400\n",
      "6  0.032967  0.471249 -0.607723\n"
     ]
    }
   ],
   "source": [
    "import numpy as np\n",
    "import pandas as pd\n",
    "from numpy import nan as NA \n",
    "\n",
    "df = pd.DataFrame(np.random.randn(7, 3))\n",
    "df.iloc[:4, 1] = NA\n",
    "df.iloc[:2, 2] = NA\n",
    "print ('Before Drop NA and Threshold')\n",
    "print (df)\n",
    "\n",
    "print ('\\n\\nDrop NA Function')\n",
    "df_dropna = df.dropna()\n",
    "print(df_dropna)\n",
    "\n",
    "print ('\\n\\nThreshold')\n",
    "df_thresh = df.dropna(thresh=2)\n",
    "print (df_thresh)\n",
    "\n",
    "\n"
   ]
  },
  {
   "cell_type": "code",
   "execution_count": 11,
   "metadata": {},
   "outputs": [
    {
     "name": "stdout",
     "output_type": "stream",
     "text": [
      "Original Dataframe\n",
      "     a     b  c\n",
      "0  1.0   NaN  1\n",
      "1  2.0  10.0  2\n",
      "2  NaN  29.0  3\n",
      "3  4.0  39.0  4\n",
      "4  5.0   NaN  5\n",
      "\n",
      "\n",
      "Fill NA Dictionary Method\n",
      "      a     b  c\n",
      "0   1.0  99.0  1\n",
      "1   2.0  10.0  2\n",
      "2  10.0  29.0  3\n",
      "3   4.0  39.0  4\n",
      "4   5.0  99.0  5\n",
      "\n",
      "\n",
      "Fill NA\n",
      "     a     b  c\n",
      "0  1.0   0.0  1\n",
      "1  2.0  10.0  2\n",
      "2  0.0  29.0  3\n",
      "3  4.0  39.0  4\n",
      "4  5.0   0.0  5\n"
     ]
    }
   ],
   "source": [
    "import numpy as np\n",
    "import pandas as pd\n",
    "from numpy import nan as NA \n",
    "\n",
    "df = pd.DataFrame({'a':[1,2,np.nan,4,5],\n",
    "                   'b':[np.nan,10,29,39,np.nan],\n",
    "                   'c':[1,2,3,4,5]}\n",
    "                   )\n",
    "print ('Original Dataframe')\n",
    "print (df)\n",
    "\n",
    "print ('\\n\\nFill NA Dictionary Method')\n",
    "df_fillnadict = df.fillna({'a':10 , 'b':99})\n",
    "print (df_fillnadict)\n",
    "\n",
    "print ('\\n\\nFill NA')\n",
    "df_fillna = df.fillna(0)\n",
    "print (df_fillna)"
   ]
  },
  {
   "cell_type": "code",
   "execution_count": 12,
   "metadata": {},
   "outputs": [
    {
     "name": "stdout",
     "output_type": "stream",
     "text": [
      "Original Dataframe\n",
      "          0         1         2\n",
      "0  0.101777 -0.182516 -0.009538\n",
      "1  1.336877  1.058121  2.929062\n",
      "2 -1.508128       NaN  0.836457\n",
      "3  1.107702       NaN -0.593819\n",
      "4 -0.495455       NaN       NaN\n",
      "5  1.537721       NaN       NaN\n",
      "\n",
      "\n",
      " ffill\n",
      "          0         1         2\n",
      "0  0.101777 -0.182516 -0.009538\n",
      "1  1.336877  1.058121  2.929062\n",
      "2 -1.508128  1.058121  0.836457\n",
      "3  1.107702  1.058121 -0.593819\n",
      "4 -0.495455  1.058121 -0.593819\n",
      "5  1.537721  1.058121 -0.593819\n",
      "\n",
      "\n",
      " ffill with method\n",
      "          0         1         2\n",
      "0  0.101777 -0.182516 -0.009538\n",
      "1  1.336877  1.058121  2.929062\n",
      "2 -1.508128  1.058121  0.836457\n",
      "3  1.107702  1.058121 -0.593819\n",
      "4 -0.495455       NaN -0.593819\n",
      "5  1.537721       NaN -0.593819\n"
     ]
    }
   ],
   "source": [
    "import numpy as np\n",
    "import pandas as pd\n",
    "from numpy import nan as NA \n",
    "\n",
    "df = pd.DataFrame(np.random.randn(6, 3))\n",
    "df.iloc[2:, 1] = NA\n",
    "df.iloc[4:, 2] = NA\n",
    "\n",
    "print ('Original Dataframe')\n",
    "print (df)\n",
    "\n",
    "print ('\\n\\n ffill')\n",
    "df_fillnadefault = df.fillna(method='ffill')\n",
    "print(df_fillnadefault)\n",
    "\n",
    "print ('\\n\\n ffill with method')\n",
    "df_fillnalimit = df.fillna(method='ffill', limit=2)\n",
    "print (df_fillnalimit)\n"
   ]
  },
  {
   "cell_type": "code",
   "execution_count": null,
   "metadata": {},
   "outputs": [],
   "source": []
  }
 ],
 "metadata": {
  "kernelspec": {
   "display_name": "APDA",
   "language": "python",
   "name": "python3"
  },
  "language_info": {
   "codemirror_mode": {
    "name": "ipython",
    "version": 3
   },
   "file_extension": ".py",
   "mimetype": "text/x-python",
   "name": "python",
   "nbconvert_exporter": "python",
   "pygments_lexer": "ipython3",
   "version": "3.11.4"
  },
  "orig_nbformat": 4
 },
 "nbformat": 4,
 "nbformat_minor": 2
}
