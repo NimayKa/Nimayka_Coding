{
 "cells": [
  {
   "cell_type": "code",
   "execution_count": 5,
   "metadata": {},
   "outputs": [
    {
     "name": "stdout",
     "output_type": "stream",
     "text": [
      "cancer.keys(): \n",
      "dict_keys(['data', 'target', 'frame', 'target_names', 'DESCR', 'feature_names', 'filename', 'data_module'])\n",
      "Shape of cancer data: \n",
      "z(569, 30)\n",
      "Sample counts per class: \n",
      "{'malignant': 212, 'benign': 357}\n",
      "Features name:\n",
      "['mean radius' 'mean texture' 'mean perimeter' 'mean area'\n",
      " 'mean smoothness' 'mean compactness' 'mean concavity'\n",
      " 'mean concave points' 'mean symmetry' 'mean fractal dimension'\n",
      " 'radius error' 'texture error' 'perimeter error' 'area error'\n",
      " 'smoothness error' 'compactness error' 'concavity error'\n",
      " 'concave points error' 'symmetry error' 'fractal dimension error'\n",
      " 'worst radius' 'worst texture' 'worst perimeter' 'worst area'\n",
      " 'worst smoothness' 'worst compactness' 'worst concavity'\n",
      " 'worst concave points' 'worst symmetry' 'worst fractal dimension']\n"
     ]
    }
   ],
   "source": [
    "from sklearn.datasets import load_breast_cancer\n",
    "import numpy as np\n",
    "\n",
    "cancer = load_breast_cancer()\n",
    "\n",
    "print (\"cancer.keys(): \\n{}\".format(cancer.keys()))\n",
    "\n",
    "print (\"Shape of cancer data: \\nz{}\".format(cancer.data.shape))\n",
    "\n",
    "print(\"Sample counts per class: \\n{}\".format({n: v for n , v in zip (cancer.target_names,np.bincount(cancer.target))}))\n",
    "\n",
    "print (\"Features name:\\n{}\".format(cancer.feature_names))\n"
   ]
  }
 ],
 "metadata": {
  "kernelspec": {
   "display_name": "APDA",
   "language": "python",
   "name": "python3"
  },
  "language_info": {
   "codemirror_mode": {
    "name": "ipython",
    "version": 3
   },
   "file_extension": ".py",
   "mimetype": "text/x-python",
   "name": "python",
   "nbconvert_exporter": "python",
   "pygments_lexer": "ipython3",
   "version": "3.11.4"
  },
  "orig_nbformat": 4
 },
 "nbformat": 4,
 "nbformat_minor": 2
}
