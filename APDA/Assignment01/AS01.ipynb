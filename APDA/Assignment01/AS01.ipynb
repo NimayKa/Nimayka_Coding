{
 "cells": [
  {
   "cell_type": "code",
   "execution_count": 1,
   "metadata": {},
   "outputs": [
    {
     "name": "stdout",
     "output_type": "stream",
     "text": [
      "        model  year  price transmission  mileage fuelType  tax(£)   mpg  \\\n",
      "0         I20  2017   7999       Manual    17307   Petrol     145  58.9   \n",
      "1      Tucson  2016  14499    Automatic    25233   Diesel     235  43.5   \n",
      "2      Tucson  2016  11399       Manual    37877   Diesel      30  61.7   \n",
      "3         I10  2016   6499       Manual    23789   Petrol      20  60.1   \n",
      "4        IX35  2015  10199       Manual    33177   Diesel     160  51.4   \n",
      "...       ...   ...    ...          ...      ...      ...     ...   ...   \n",
      "4855      I30  2016   8680       Manual    25906   Diesel       0  78.4   \n",
      "4856      I40  2015   7830       Manual    59508   Diesel      30  65.7   \n",
      "4857      I10  2017   6830       Manual    13810   Petrol      20  60.1   \n",
      "4858   Tucson  2018  13994       Manual    23313   Petrol     145  44.8   \n",
      "4859   Tucson  2016  15999    Automatic    11472   Diesel     125  57.6   \n",
      "\n",
      "      engineSize  \n",
      "0            1.2  \n",
      "1            2.0  \n",
      "2            1.7  \n",
      "3            1.0  \n",
      "4            2.0  \n",
      "...          ...  \n",
      "4855         1.6  \n",
      "4856         1.7  \n",
      "4857         1.0  \n",
      "4858         1.6  \n",
      "4859         1.7  \n",
      "\n",
      "[4860 rows x 9 columns]\n"
     ]
    },
    {
     "data": {
      "text/plain": [
       "Index(['model', 'year', 'price', 'transmission', 'mileage', 'fuelType',\n",
       "       'tax(£)', 'mpg', 'engineSize'],\n",
       "      dtype='object')"
      ]
     },
     "execution_count": 1,
     "metadata": {},
     "output_type": "execute_result"
    }
   ],
   "source": [
    "import pandas as pd\n",
    "import numpy as np\n",
    "import matplotlib as mpl\n",
    "\n",
    "\n",
    "df1=pd.read_csv(\"hyundi.csv\")\n",
    "print (df1)\n",
    "df1.columns"
   ]
  },
  {
   "cell_type": "code",
   "execution_count": null,
   "metadata": {},
   "outputs": [],
   "source": []
  },
  {
   "cell_type": "code",
   "execution_count": null,
   "metadata": {},
   "outputs": [],
   "source": []
  }
 ],
 "metadata": {
  "kernelspec": {
   "display_name": "APDA",
   "language": "python",
   "name": "python3"
  },
  "language_info": {
   "codemirror_mode": {
    "name": "ipython",
    "version": 3
   },
   "file_extension": ".py",
   "mimetype": "text/x-python",
   "name": "python",
   "nbconvert_exporter": "python",
   "pygments_lexer": "ipython3",
   "version": "3.11.4"
  },
  "orig_nbformat": 4
 },
 "nbformat": 4,
 "nbformat_minor": 2
}
