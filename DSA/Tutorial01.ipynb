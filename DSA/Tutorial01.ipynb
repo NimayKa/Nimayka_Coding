{
 "cells": [
  {
   "cell_type": "code",
   "execution_count": 2,
   "metadata": {},
   "outputs": [
    {
     "name": "stdout",
     "output_type": "stream",
     "text": [
      "Greatest Common Divisor: 1\n"
     ]
    }
   ],
   "source": [
    "import numpy as np\n",
    "\n",
    "def find_gcd(x):\n",
    "    return np.gcd(*x)\n",
    "\n",
    "a = int(input(\"First Number of Divisors\"))\n",
    "b = int(input(\"Second Number of Divisors\"))\n",
    "\n",
    "num = [a,b]\n",
    "result = find_gcd(num)\n",
    "print(\"Greatest Common Divisor:\", result)"
   ]
  }
 ],
 "metadata": {
  "kernelspec": {
   "display_name": "base",
   "language": "python",
   "name": "python3"
  },
  "language_info": {
   "codemirror_mode": {
    "name": "ipython",
    "version": 3
   },
   "file_extension": ".py",
   "mimetype": "text/x-python",
   "name": "python",
   "nbconvert_exporter": "python",
   "pygments_lexer": "ipython3",
   "version": "3.11.4"
  },
  "orig_nbformat": 4
 },
 "nbformat": 4,
 "nbformat_minor": 2
}
