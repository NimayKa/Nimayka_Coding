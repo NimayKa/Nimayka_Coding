{
 "cells": [
  {
   "cell_type": "code",
   "execution_count": 1,
   "id": "2a5a8a1c-1c3f-4761-b625-be1bc0f5f681",
   "metadata": {},
   "outputs": [
    {
     "name": "stdout",
     "output_type": "stream",
     "text": [
      "                       Name                 Type  Level        Race Attribute  \\\n",
      "0             Limit Reverse            Trap Card    NaN  Continuous       NaN   \n",
      "1            The 13th Grave       Normal Monster    3.0      Zombie      DARK   \n",
      "2           Gem-Enhancement            Trap Card    NaN      Normal       NaN   \n",
      "3         Magician's Circle            Trap Card    NaN      Normal       NaN   \n",
      "4  Castle of Dark Illusions  Flip Effect Monster    4.0       Fiend      DARK   \n",
      "\n",
      "      ATK     DEF  \n",
      "0     NaN     NaN  \n",
      "1  1200.0   900.0  \n",
      "2     NaN     NaN  \n",
      "3     NaN     NaN  \n",
      "4   920.0  1930.0  \n"
     ]
    }
   ],
   "source": [
    "import pandas as pd\n",
    "\n",
    "df = pd.read_csv(\"Dataset.csv\")\n",
    "print (df.head(5))"
   ]
  },
  {
   "cell_type": "code",
   "execution_count": 2,
   "id": "1fd6ec3d-8838-4bf8-a136-caec0eb01ea3",
   "metadata": {},
   "outputs": [
    {
     "name": "stdout",
     "output_type": "stream",
     "text": [
      "                             Name                     Type  Level    Race  \\\n",
      "1929                    Tradetoad           Effect Monster    1.0    Aqua   \n",
      "1926   Performapal Sellshell Crab  Pendulum Effect Monster    5.0    Aqua   \n",
      "3098                Unformed Void              XYZ Monster    4.0    Aqua   \n",
      "1952      Mobius the Mega Monarch           Effect Monster    8.0    Aqua   \n",
      "3821                  Hitodenchak           Normal Monster    2.0    Aqua   \n",
      "...                           ...                      ...    ...     ...   \n",
      "3514              Wandering Mummy           Effect Monster    4.0  Zombie   \n",
      "1357                 Royal Keeper           Effect Monster    4.0  Zombie   \n",
      "3102  Crimson Knight Vampire Bram              XYZ Monster    5.0  Zombie   \n",
      "487    Koa'ki Meiru Ghoulungulate           Effect Monster    5.0  Zombie   \n",
      "3047                 Bone Crusher           Effect Monster    4.0  Zombie   \n",
      "\n",
      "     Attribute     ATK     DEF  \n",
      "1929     WATER   100.0  2000.0  \n",
      "1926     WATER   500.0  2500.0  \n",
      "3098     LIGHT     0.0     0.0  \n",
      "1952     WATER  2800.0  1000.0  \n",
      "3821     WATER   600.0   700.0  \n",
      "...        ...     ...     ...  \n",
      "3514     EARTH  1500.0  1500.0  \n",
      "1357     EARTH  1600.0  1700.0  \n",
      "3102      DARK  2500.0     0.0  \n",
      "487      EARTH  2500.0  1700.0  \n",
      "3047     EARTH  1600.0   200.0  \n",
      "\n",
      "[6534 rows x 7 columns]\n"
     ]
    }
   ],
   "source": [
    "df =df.sort_values('Race', ascending = True)\n",
    "print (df)"
   ]
  },
  {
   "cell_type": "code",
   "execution_count": 3,
   "id": "3b037fa2-8ffc-4285-8805-099014f57ac3",
   "metadata": {},
   "outputs": [
    {
     "name": "stdout",
     "output_type": "stream",
     "text": [
      "                             Name            Type  Level           Race  \\\n",
      "1875          Mist Valley Soldier   Tuner Monster    4.0   Winged Beast   \n",
      "2293  Roc from the Valley of Haze  Effect Monster    6.0   Winged Beast   \n",
      "2382              ZW - Eagle Claw  Effect Monster    5.0   Winged Beast   \n",
      "987                   Nin-Ken Dog  Normal Monster    4.0  Beast-Warrior   \n",
      "170       Gladiator Beast Lanista  Effect Monster    4.0   Winged Beast   \n",
      "...                           ...             ...    ...            ...   \n",
      "805            Vague Shadow Token           Token    NaN   Winged Beast   \n",
      "4444               Seahorse Token           Token    NaN           Wyrm   \n",
      "604            Chewbone Jr. Token           Token    NaN         Zombie   \n",
      "5408            Black Sheep Token           Token    NaN         Zombie   \n",
      "664               Dark Soul Token           Token    NaN         Zombie   \n",
      "\n",
      "     Attribute     ATK     DEF  \n",
      "1875      WIND  1700.0   300.0  \n",
      "2293      WIND  2400.0  1400.0  \n",
      "2382      WIND  2000.0  1200.0  \n",
      "987       WIND  1800.0  1000.0  \n",
      "170       WIND  1800.0  1200.0  \n",
      "...        ...     ...     ...  \n",
      "805        NaN     NaN     NaN  \n",
      "4444       NaN     NaN     NaN  \n",
      "604        NaN     NaN     NaN  \n",
      "5408       NaN     NaN     NaN  \n",
      "664        NaN     NaN     NaN  \n",
      "\n",
      "[6534 rows x 7 columns]\n"
     ]
    }
   ],
   "source": [
    "df = df.sort_values('Attribute', ascending = False)\n",
    "print (df)"
   ]
  },
  {
   "cell_type": "code",
   "execution_count": 4,
   "id": "9b610294-7f63-40bb-bacd-7a8bbffc0dff",
   "metadata": {},
   "outputs": [
    {
     "name": "stdout",
     "output_type": "stream",
     "text": [
      "                                  Name            Type  Level    Race  \\\n",
      "5156            Supersonic Skull Flame  Effect Monster   10.0  Zombie   \n",
      "6487            Sea Monster of Theseus  Fusion Monster    5.0  Zombie   \n",
      "3666  Sacred Spirit of the Ice Barrier  Spirit Monster    4.0  Zombie   \n",
      "5518      Paladin of the Cursed Dragon  Effect Monster    4.0  Zombie   \n",
      "2084             Spirit of the Pharaoh  Effect Monster    6.0  Zombie   \n",
      "...                                ...             ...    ...     ...   \n",
      "3332                   Evilswarm Ketos  Effect Monster    4.0    Aqua   \n",
      "5654                        Mucus Yolk  Effect Monster    3.0    Aqua   \n",
      "731                        Steam Token           Token    NaN    Aqua   \n",
      "1786               Slime Monster Token           Token    NaN    Aqua   \n",
      "5352                  Ice Coffin Token           Token    NaN    Aqua   \n",
      "\n",
      "     Attribute     ATK     DEF  \n",
      "5156      WIND  2600.0  2000.0  \n",
      "6487     WATER  2200.0  1800.0  \n",
      "3666     WATER  1600.0  1200.0  \n",
      "5518     LIGHT  1900.0  1200.0  \n",
      "2084     LIGHT  2500.0  2000.0  \n",
      "...        ...     ...     ...  \n",
      "3332      DARK  1750.0  1050.0  \n",
      "5654      DARK     0.0   100.0  \n",
      "731        NaN     NaN     NaN  \n",
      "1786       NaN     NaN     NaN  \n",
      "5352       NaN     NaN     NaN  \n",
      "\n",
      "[6534 rows x 7 columns]\n"
     ]
    }
   ],
   "source": [
    "df = df.sort_values(['Race','Attribute'], ascending = False)\n",
    "print (df)"
   ]
  },
  {
   "cell_type": "code",
   "execution_count": 5,
   "id": "f6b68cc1-38c4-462b-b951-1b8609848d0b",
   "metadata": {},
   "outputs": [
    {
     "name": "stdout",
     "output_type": "stream",
     "text": [
      "                               Name            Type  Level    Race Attribute  \\\n",
      "1134     Spiritual Beast Pettlephin  Effect Monster    4.0    Aqua      WIND   \n",
      "1047   Ritual Beast Ulti-Pettlephin  Fusion Monster    6.0    Aqua      WIND   \n",
      "4691  Cloudian - Eye of the Typhoon  Effect Monster    8.0    Aqua      WIND   \n",
      "634                  Vortex Trooper  Effect Monster    3.0    Aqua      WIND   \n",
      "835                    Wingtortoise  Effect Monster    3.0    Aqua      WIND   \n",
      "...                             ...             ...    ...     ...       ...   \n",
      "4681                    Wightprince  Effect Monster    1.0  Zombie      DARK   \n",
      "4667                      Ryu Kokki  Effect Monster    6.0  Zombie      DARK   \n",
      "604              Chewbone Jr. Token           Token    NaN  Zombie       NaN   \n",
      "5408              Black Sheep Token           Token    NaN  Zombie       NaN   \n",
      "664                 Dark Soul Token           Token    NaN  Zombie       NaN   \n",
      "\n",
      "         ATK     DEF  \n",
      "1134     0.0  2000.0  \n",
      "1047   200.0  2800.0  \n",
      "4691  3000.0  1000.0  \n",
      "634      0.0   600.0  \n",
      "835   1500.0  1400.0  \n",
      "...      ...     ...  \n",
      "4681     0.0     0.0  \n",
      "4667  2400.0  2000.0  \n",
      "604      NaN     NaN  \n",
      "5408     NaN     NaN  \n",
      "664      NaN     NaN  \n",
      "\n",
      "[6534 rows x 7 columns]\n"
     ]
    }
   ],
   "source": [
    "df = df.sort_values(['Race','Attribute'], ascending = [1,0])\n",
    "print (df)"
   ]
  },
  {
   "cell_type": "code",
   "execution_count": 6,
   "id": "d6cc7580-420c-4304-9b2b-d72a0ae60af7",
   "metadata": {},
   "outputs": [
    {
     "name": "stdout",
     "output_type": "stream",
     "text": [
      "                               Name            Type  Level    Race Attribute  \\\n",
      "1134     Spiritual Beast Pettlephin  Effect Monster    4.0    Aqua      WIND   \n",
      "1047   Ritual Beast Ulti-Pettlephin  Fusion Monster    6.0    Aqua      WIND   \n",
      "4691  Cloudian - Eye of the Typhoon  Effect Monster    8.0    Aqua      WIND   \n",
      "634                  Vortex Trooper  Effect Monster    3.0    Aqua      WIND   \n",
      "835                    Wingtortoise  Effect Monster    3.0    Aqua      WIND   \n",
      "...                             ...             ...    ...     ...       ...   \n",
      "4681                    Wightprince  Effect Monster    1.0  Zombie      DARK   \n",
      "4667                      Ryu Kokki  Effect Monster    6.0  Zombie      DARK   \n",
      "604              Chewbone Jr. Token           Token    NaN  Zombie       NaN   \n",
      "5408              Black Sheep Token           Token    NaN  Zombie       NaN   \n",
      "664                 Dark Soul Token           Token    NaN  Zombie       NaN   \n",
      "\n",
      "         ATK     DEF   Total  Total1  \n",
      "1134     0.0  2000.0  2000.0  2000.0  \n",
      "1047   200.0  2800.0  3000.0  3000.0  \n",
      "4691  3000.0  1000.0  4000.0  4000.0  \n",
      "634      0.0   600.0   600.0   600.0  \n",
      "835   1500.0  1400.0  2900.0  2900.0  \n",
      "...      ...     ...     ...     ...  \n",
      "4681     0.0     0.0     NaN     NaN  \n",
      "4667  2400.0  2000.0     NaN     NaN  \n",
      "604      NaN     NaN     NaN     NaN  \n",
      "5408     NaN     NaN     NaN     NaN  \n",
      "664      NaN     NaN     NaN     NaN  \n",
      "\n",
      "[6534 rows x 9 columns]\n"
     ]
    }
   ],
   "source": [
    "df['Total'] = df.iloc[0:5,5:7].sum(axis=1)\n",
    "df['Total1'] = df.iloc[0:5,5:7].sum(axis=1)\n",
    "print (df)"
   ]
  },
  {
   "cell_type": "code",
   "execution_count": 7,
   "id": "020a5975-54b2-45b5-86ba-6714492755d6",
   "metadata": {},
   "outputs": [
    {
     "data": {
      "text/html": [
       "<div>\n",
       "<style scoped>\n",
       "    .dataframe tbody tr th:only-of-type {\n",
       "        vertical-align: middle;\n",
       "    }\n",
       "\n",
       "    .dataframe tbody tr th {\n",
       "        vertical-align: top;\n",
       "    }\n",
       "\n",
       "    .dataframe thead th {\n",
       "        text-align: right;\n",
       "    }\n",
       "</style>\n",
       "<table border=\"1\" class=\"dataframe\">\n",
       "  <thead>\n",
       "    <tr style=\"text-align: right;\">\n",
       "      <th></th>\n",
       "      <th>Name</th>\n",
       "      <th>Type</th>\n",
       "      <th>Level</th>\n",
       "      <th>Race</th>\n",
       "      <th>Total1</th>\n",
       "      <th>Attribute</th>\n",
       "      <th>ATK</th>\n",
       "      <th>DEF</th>\n",
       "      <th>Total</th>\n",
       "    </tr>\n",
       "  </thead>\n",
       "  <tbody>\n",
       "    <tr>\n",
       "      <th>1134</th>\n",
       "      <td>Spiritual Beast Pettlephin</td>\n",
       "      <td>Effect Monster</td>\n",
       "      <td>4.0</td>\n",
       "      <td>Aqua</td>\n",
       "      <td>2000.0</td>\n",
       "      <td>WIND</td>\n",
       "      <td>0.0</td>\n",
       "      <td>2000.0</td>\n",
       "      <td>2000.0</td>\n",
       "    </tr>\n",
       "    <tr>\n",
       "      <th>1047</th>\n",
       "      <td>Ritual Beast Ulti-Pettlephin</td>\n",
       "      <td>Fusion Monster</td>\n",
       "      <td>6.0</td>\n",
       "      <td>Aqua</td>\n",
       "      <td>3000.0</td>\n",
       "      <td>WIND</td>\n",
       "      <td>200.0</td>\n",
       "      <td>2800.0</td>\n",
       "      <td>3000.0</td>\n",
       "    </tr>\n",
       "    <tr>\n",
       "      <th>4691</th>\n",
       "      <td>Cloudian - Eye of the Typhoon</td>\n",
       "      <td>Effect Monster</td>\n",
       "      <td>8.0</td>\n",
       "      <td>Aqua</td>\n",
       "      <td>4000.0</td>\n",
       "      <td>WIND</td>\n",
       "      <td>3000.0</td>\n",
       "      <td>1000.0</td>\n",
       "      <td>4000.0</td>\n",
       "    </tr>\n",
       "    <tr>\n",
       "      <th>634</th>\n",
       "      <td>Vortex Trooper</td>\n",
       "      <td>Effect Monster</td>\n",
       "      <td>3.0</td>\n",
       "      <td>Aqua</td>\n",
       "      <td>600.0</td>\n",
       "      <td>WIND</td>\n",
       "      <td>0.0</td>\n",
       "      <td>600.0</td>\n",
       "      <td>600.0</td>\n",
       "    </tr>\n",
       "    <tr>\n",
       "      <th>835</th>\n",
       "      <td>Wingtortoise</td>\n",
       "      <td>Effect Monster</td>\n",
       "      <td>3.0</td>\n",
       "      <td>Aqua</td>\n",
       "      <td>2900.0</td>\n",
       "      <td>WIND</td>\n",
       "      <td>1500.0</td>\n",
       "      <td>1400.0</td>\n",
       "      <td>2900.0</td>\n",
       "    </tr>\n",
       "  </tbody>\n",
       "</table>\n",
       "</div>"
      ],
      "text/plain": [
       "                               Name            Type  Level  Race  Total1  \\\n",
       "1134     Spiritual Beast Pettlephin  Effect Monster    4.0  Aqua  2000.0   \n",
       "1047   Ritual Beast Ulti-Pettlephin  Fusion Monster    6.0  Aqua  3000.0   \n",
       "4691  Cloudian - Eye of the Typhoon  Effect Monster    8.0  Aqua  4000.0   \n",
       "634                  Vortex Trooper  Effect Monster    3.0  Aqua   600.0   \n",
       "835                    Wingtortoise  Effect Monster    3.0  Aqua  2900.0   \n",
       "\n",
       "     Attribute     ATK     DEF   Total  \n",
       "1134      WIND     0.0  2000.0  2000.0  \n",
       "1047      WIND   200.0  2800.0  3000.0  \n",
       "4691      WIND  3000.0  1000.0  4000.0  \n",
       "634       WIND     0.0   600.0   600.0  \n",
       "835       WIND  1500.0  1400.0  2900.0  "
      ]
     },
     "execution_count": 7,
     "metadata": {},
     "output_type": "execute_result"
    }
   ],
   "source": [
    "df_arg01 = df\n",
    "df_arg01 = df_arg01[['Name', 'Type','Level', 'Race','Total1','Attribute','ATK','DEF','Total']]\n",
    "df_arg01.head(5)"
   ]
  },
  {
   "cell_type": "code",
   "execution_count": 8,
   "id": "db929b67-1f59-46b3-83ec-31bdc0f38f4c",
   "metadata": {},
   "outputs": [
    {
     "name": "stdout",
     "output_type": "stream",
     "text": [
      "Index(['Name', 'Type', 'Level', 'Race', 'Attribute', 'ATK', 'DEF', 'Total',\n",
      "       'Total1'],\n",
      "      dtype='object')\n"
     ]
    }
   ],
   "source": [
    "print (df.columns)"
   ]
  },
  {
   "cell_type": "code",
   "execution_count": 9,
   "id": "7a51328a-c588-4835-aa7f-dba67fff3b50",
   "metadata": {},
   "outputs": [
    {
     "data": {
      "text/html": [
       "<div>\n",
       "<style scoped>\n",
       "    .dataframe tbody tr th:only-of-type {\n",
       "        vertical-align: middle;\n",
       "    }\n",
       "\n",
       "    .dataframe tbody tr th {\n",
       "        vertical-align: top;\n",
       "    }\n",
       "\n",
       "    .dataframe thead th {\n",
       "        text-align: right;\n",
       "    }\n",
       "</style>\n",
       "<table border=\"1\" class=\"dataframe\">\n",
       "  <thead>\n",
       "    <tr style=\"text-align: right;\">\n",
       "      <th></th>\n",
       "      <th>Name</th>\n",
       "      <th>Type</th>\n",
       "      <th>Level</th>\n",
       "      <th>Race</th>\n",
       "      <th>Total</th>\n",
       "      <th>Total1</th>\n",
       "      <th>Attribute</th>\n",
       "      <th>ATK</th>\n",
       "      <th>DEF</th>\n",
       "    </tr>\n",
       "  </thead>\n",
       "  <tbody>\n",
       "    <tr>\n",
       "      <th>1134</th>\n",
       "      <td>Spiritual Beast Pettlephin</td>\n",
       "      <td>Effect Monster</td>\n",
       "      <td>4.0</td>\n",
       "      <td>Aqua</td>\n",
       "      <td>2000.0</td>\n",
       "      <td>2000.0</td>\n",
       "      <td>WIND</td>\n",
       "      <td>0.0</td>\n",
       "      <td>2000.0</td>\n",
       "    </tr>\n",
       "    <tr>\n",
       "      <th>1047</th>\n",
       "      <td>Ritual Beast Ulti-Pettlephin</td>\n",
       "      <td>Fusion Monster</td>\n",
       "      <td>6.0</td>\n",
       "      <td>Aqua</td>\n",
       "      <td>3000.0</td>\n",
       "      <td>3000.0</td>\n",
       "      <td>WIND</td>\n",
       "      <td>200.0</td>\n",
       "      <td>2800.0</td>\n",
       "    </tr>\n",
       "    <tr>\n",
       "      <th>4691</th>\n",
       "      <td>Cloudian - Eye of the Typhoon</td>\n",
       "      <td>Effect Monster</td>\n",
       "      <td>8.0</td>\n",
       "      <td>Aqua</td>\n",
       "      <td>4000.0</td>\n",
       "      <td>4000.0</td>\n",
       "      <td>WIND</td>\n",
       "      <td>3000.0</td>\n",
       "      <td>1000.0</td>\n",
       "    </tr>\n",
       "    <tr>\n",
       "      <th>634</th>\n",
       "      <td>Vortex Trooper</td>\n",
       "      <td>Effect Monster</td>\n",
       "      <td>3.0</td>\n",
       "      <td>Aqua</td>\n",
       "      <td>600.0</td>\n",
       "      <td>600.0</td>\n",
       "      <td>WIND</td>\n",
       "      <td>0.0</td>\n",
       "      <td>600.0</td>\n",
       "    </tr>\n",
       "    <tr>\n",
       "      <th>835</th>\n",
       "      <td>Wingtortoise</td>\n",
       "      <td>Effect Monster</td>\n",
       "      <td>3.0</td>\n",
       "      <td>Aqua</td>\n",
       "      <td>2900.0</td>\n",
       "      <td>2900.0</td>\n",
       "      <td>WIND</td>\n",
       "      <td>1500.0</td>\n",
       "      <td>1400.0</td>\n",
       "    </tr>\n",
       "  </tbody>\n",
       "</table>\n",
       "</div>"
      ],
      "text/plain": [
       "                               Name            Type  Level  Race   Total  \\\n",
       "1134     Spiritual Beast Pettlephin  Effect Monster    4.0  Aqua  2000.0   \n",
       "1047   Ritual Beast Ulti-Pettlephin  Fusion Monster    6.0  Aqua  3000.0   \n",
       "4691  Cloudian - Eye of the Typhoon  Effect Monster    8.0  Aqua  4000.0   \n",
       "634                  Vortex Trooper  Effect Monster    3.0  Aqua   600.0   \n",
       "835                    Wingtortoise  Effect Monster    3.0  Aqua  2900.0   \n",
       "\n",
       "      Total1 Attribute     ATK     DEF  \n",
       "1134  2000.0      WIND     0.0  2000.0  \n",
       "1047  3000.0      WIND   200.0  2800.0  \n",
       "4691  4000.0      WIND  3000.0  1000.0  \n",
       "634    600.0      WIND     0.0   600.0  \n",
       "835   2900.0      WIND  1500.0  1400.0  "
      ]
     },
     "execution_count": 9,
     "metadata": {},
     "output_type": "execute_result"
    }
   ],
   "source": [
    "df_arg02 = df \n",
    "cols = list(df_arg02.columns.values)\n",
    "df_arg02 = df_arg02[cols[0:4] + cols[7:9] + cols[4:7]]\n",
    "df_arg02.head(5)"
   ]
  },
  {
   "cell_type": "code",
   "execution_count": 10,
   "id": "620fb06f-fb1c-4374-895b-69405803c135",
   "metadata": {},
   "outputs": [
    {
     "name": "stdout",
     "output_type": "stream",
     "text": [
      "                               Name            Type  Level  Race Attribute  \\\n",
      "1134     Spiritual Beast Pettlephin  Effect Monster    4.0  Aqua      WIND   \n",
      "1047   Ritual Beast Ulti-Pettlephin  Fusion Monster    6.0  Aqua      WIND   \n",
      "4691  Cloudian - Eye of the Typhoon  Effect Monster    8.0  Aqua      WIND   \n",
      "634                  Vortex Trooper  Effect Monster    3.0  Aqua      WIND   \n",
      "835                    Wingtortoise  Effect Monster    3.0  Aqua      WIND   \n",
      "\n",
      "         ATK     DEF   Total  \n",
      "1134     0.0  2000.0  2000.0  \n",
      "1047   200.0  2800.0  3000.0  \n",
      "4691  3000.0  1000.0  4000.0  \n",
      "634      0.0   600.0   600.0  \n",
      "835   1500.0  1400.0  2900.0  \n"
     ]
    }
   ],
   "source": [
    "df= df.drop (columns = \"Total1\")\n",
    "print(df.head(5))"
   ]
  },
  {
   "cell_type": "code",
   "execution_count": 12,
   "id": "75f76efb-c618-4b20-b81f-2398fde4a16d",
   "metadata": {},
   "outputs": [],
   "source": [
    "df.to_csv('newYugiOh.csv', index = False)"
   ]
  }
 ],
 "metadata": {
  "kernelspec": {
   "display_name": "Python 3 (ipykernel)",
   "language": "python",
   "name": "python3"
  },
  "language_info": {
   "codemirror_mode": {
    "name": "ipython",
    "version": 3
   },
   "file_extension": ".py",
   "mimetype": "text/x-python",
   "name": "python",
   "nbconvert_exporter": "python",
   "pygments_lexer": "ipython3",
   "version": "3.11.4"
  }
 },
 "nbformat": 4,
 "nbformat_minor": 5
}
