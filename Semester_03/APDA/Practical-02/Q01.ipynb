{
 "cells": [
  {
   "cell_type": "markdown",
   "metadata": {},
   "source": [
    "Ak Yamin | \n",
    "22FTT1344 | \n",
    "DA3304 APDA | "
   ]
  },
  {
   "cell_type": "markdown",
   "metadata": {},
   "source": [
    "a"
   ]
  },
  {
   "cell_type": "code",
   "execution_count": 7,
   "metadata": {},
   "outputs": [
    {
     "name": "stdout",
     "output_type": "stream",
     "text": [
      "Row count =  99\n",
      "No.of Attributes =  5\n",
      "Mean value of Final attributes =  68.414375\n",
      "Highest value of Final attributes =  108.89\n",
      "Lowest value of Final attributes =  28.06\n",
      "\n",
      "\n",
      "\n",
      "        Assignment  Tutorial  Midterm  TakeHome  Final\n",
      "Prefix                                                \n",
      "5            57.14     34.09    64.38     51.48  52.50\n",
      "8            95.05    105.49    67.50     99.07  68.33\n",
      "8            83.70     83.17    30.00     63.15  48.89\n",
      "7            81.22     96.06    49.38    105.93  80.56\n",
      "8            91.32     93.64    95.00    107.41  73.89\n",
      "...            ...       ...      ...       ...    ...\n",
      "8            96.73    103.71    45.00     93.52  61.94\n",
      "7            85.34     80.54    41.25     93.70  39.72\n",
      "8            89.94    102.77    87.50     90.74  87.78\n",
      "7            95.60     76.13    66.25     99.81  85.56\n",
      "8            63.40     97.37    73.12     72.78  77.22\n",
      "\n",
      "[99 rows x 5 columns]\n"
     ]
    }
   ],
   "source": [
    "import pandas as pd\n",
    "from numpy import nan as NA \n",
    "\n",
    "df = pd.read_csv(\"class-grades.csv\")\n",
    "df.set_index('Prefix',inplace=True)\n",
    "\n",
    "print (\"Row count = \",len(df))\n",
    "print (\"No.of Attributes = \",len(df.columns))\n",
    "print(\"Mean value of Final attributes = \",df['Final'].mean())\n",
    "print(\"Highest value of Final attributes = \",df['Final'].max())\n",
    "print(\"Lowest value of Final attributes = \",df['Final'].min())\n",
    "print (\"\\n\\n\")\n",
    "\n",
    "print (df)"
   ]
  },
  {
   "cell_type": "markdown",
   "metadata": {},
   "source": [
    "b"
   ]
  },
  {
   "cell_type": "code",
   "execution_count": 8,
   "metadata": {},
   "outputs": [
    {
     "name": "stdout",
     "output_type": "stream",
     "text": [
      "Missing Value in TakeHome = 1\n",
      "Missing Value in Final = 3\n",
      "Total missing values = 4\n"
     ]
    }
   ],
   "source": [
    "Total = 0\n",
    "for i in df.columns:\n",
    "    if df[i].isnull().sum() >= 1:\n",
    "        print(\"Missing Value in\",i,\"=\", df[i].isnull().sum())\n",
    "        Total += df[i].isnull().sum()\n",
    "\n",
    "print(\"Total missing values =\", Total)"
   ]
  },
  {
   "cell_type": "markdown",
   "metadata": {},
   "source": [
    "c"
   ]
  },
  {
   "cell_type": "code",
   "execution_count": 9,
   "metadata": {},
   "outputs": [
    {
     "name": "stdout",
     "output_type": "stream",
     "text": [
      "Grabbing NA Data\n",
      "\n",
      "        Assignment  Tutorial  Midterm  TakeHome  Final\n",
      "Prefix                                                \n",
      "7            72.85     86.85    60.00       NaN  56.11\n",
      "8            63.40     86.21    63.12     72.78    NaN\n",
      "6            90.74     89.64    61.25     90.00    NaN\n",
      "8            71.79    102.87    41.88     24.77    NaN\n",
      "\n",
      "\n",
      "Fill NA\n"
     ]
    },
    {
     "data": {
      "text/html": [
       "<div>\n",
       "<style scoped>\n",
       "    .dataframe tbody tr th:only-of-type {\n",
       "        vertical-align: middle;\n",
       "    }\n",
       "\n",
       "    .dataframe tbody tr th {\n",
       "        vertical-align: top;\n",
       "    }\n",
       "\n",
       "    .dataframe thead th {\n",
       "        text-align: right;\n",
       "    }\n",
       "</style>\n",
       "<table border=\"1\" class=\"dataframe\">\n",
       "  <thead>\n",
       "    <tr style=\"text-align: right;\">\n",
       "      <th></th>\n",
       "      <th>Assignment</th>\n",
       "      <th>Tutorial</th>\n",
       "      <th>Midterm</th>\n",
       "      <th>TakeHome</th>\n",
       "      <th>Final</th>\n",
       "    </tr>\n",
       "    <tr>\n",
       "      <th>Prefix</th>\n",
       "      <th></th>\n",
       "      <th></th>\n",
       "      <th></th>\n",
       "      <th></th>\n",
       "      <th></th>\n",
       "    </tr>\n",
       "  </thead>\n",
       "  <tbody>\n",
       "    <tr>\n",
       "      <th>7</th>\n",
       "      <td>72.85</td>\n",
       "      <td>86.85</td>\n",
       "      <td>60.00</td>\n",
       "      <td>60.00</td>\n",
       "      <td>56.11</td>\n",
       "    </tr>\n",
       "    <tr>\n",
       "      <th>8</th>\n",
       "      <td>63.40</td>\n",
       "      <td>86.21</td>\n",
       "      <td>63.12</td>\n",
       "      <td>72.78</td>\n",
       "      <td>60.00</td>\n",
       "    </tr>\n",
       "    <tr>\n",
       "      <th>6</th>\n",
       "      <td>90.74</td>\n",
       "      <td>89.64</td>\n",
       "      <td>61.25</td>\n",
       "      <td>90.00</td>\n",
       "      <td>60.00</td>\n",
       "    </tr>\n",
       "    <tr>\n",
       "      <th>8</th>\n",
       "      <td>71.79</td>\n",
       "      <td>102.87</td>\n",
       "      <td>41.88</td>\n",
       "      <td>24.77</td>\n",
       "      <td>60.00</td>\n",
       "    </tr>\n",
       "  </tbody>\n",
       "</table>\n",
       "</div>"
      ],
      "text/plain": [
       "        Assignment  Tutorial  Midterm  TakeHome  Final\n",
       "Prefix                                                \n",
       "7            72.85     86.85    60.00     60.00  56.11\n",
       "8            63.40     86.21    63.12     72.78  60.00\n",
       "6            90.74     89.64    61.25     90.00  60.00\n",
       "8            71.79    102.87    41.88     24.77  60.00"
      ]
     },
     "execution_count": 9,
     "metadata": {},
     "output_type": "execute_result"
    }
   ],
   "source": [
    "print('Grabbing NA Data\\n')\n",
    "df_missingvalue = df[df.isna().any(axis=1)]\n",
    "print(df_missingvalue)\n",
    "print ('\\n\\nFill NA')\n",
    "df_missingvalue.fillna(60)"
   ]
  },
  {
   "cell_type": "markdown",
   "metadata": {},
   "source": [
    "d"
   ]
  },
  {
   "cell_type": "code",
   "execution_count": 10,
   "metadata": {},
   "outputs": [
    {
     "name": "stdout",
     "output_type": "stream",
     "text": [
      "Grabbing NA Data\n",
      "\n",
      "        Assignment  Tutorial  Midterm  TakeHome  Final\n",
      "Prefix                                                \n",
      "7            72.85     86.85    60.00       NaN  56.11\n",
      "8            63.40     86.21    63.12     72.78    NaN\n",
      "6            90.74     89.64    61.25     90.00    NaN\n",
      "8            71.79    102.87    41.88     24.77    NaN\n",
      "\n",
      "\n",
      "Fill NA using Mean\n"
     ]
    },
    {
     "data": {
      "text/html": [
       "<div>\n",
       "<style scoped>\n",
       "    .dataframe tbody tr th:only-of-type {\n",
       "        vertical-align: middle;\n",
       "    }\n",
       "\n",
       "    .dataframe tbody tr th {\n",
       "        vertical-align: top;\n",
       "    }\n",
       "\n",
       "    .dataframe thead th {\n",
       "        text-align: right;\n",
       "    }\n",
       "</style>\n",
       "<table border=\"1\" class=\"dataframe\">\n",
       "  <thead>\n",
       "    <tr style=\"text-align: right;\">\n",
       "      <th></th>\n",
       "      <th>Assignment</th>\n",
       "      <th>Tutorial</th>\n",
       "      <th>Midterm</th>\n",
       "      <th>TakeHome</th>\n",
       "      <th>Final</th>\n",
       "    </tr>\n",
       "    <tr>\n",
       "      <th>Prefix</th>\n",
       "      <th></th>\n",
       "      <th></th>\n",
       "      <th></th>\n",
       "      <th></th>\n",
       "      <th></th>\n",
       "    </tr>\n",
       "  </thead>\n",
       "  <tbody>\n",
       "    <tr>\n",
       "      <th>7</th>\n",
       "      <td>72.85</td>\n",
       "      <td>86.85</td>\n",
       "      <td>60.00</td>\n",
       "      <td>80.80</td>\n",
       "      <td>56.11</td>\n",
       "    </tr>\n",
       "    <tr>\n",
       "      <th>8</th>\n",
       "      <td>63.40</td>\n",
       "      <td>86.21</td>\n",
       "      <td>63.12</td>\n",
       "      <td>72.78</td>\n",
       "      <td>68.40</td>\n",
       "    </tr>\n",
       "    <tr>\n",
       "      <th>6</th>\n",
       "      <td>90.74</td>\n",
       "      <td>89.64</td>\n",
       "      <td>61.25</td>\n",
       "      <td>90.00</td>\n",
       "      <td>68.40</td>\n",
       "    </tr>\n",
       "    <tr>\n",
       "      <th>8</th>\n",
       "      <td>71.79</td>\n",
       "      <td>102.87</td>\n",
       "      <td>41.88</td>\n",
       "      <td>24.77</td>\n",
       "      <td>68.40</td>\n",
       "    </tr>\n",
       "  </tbody>\n",
       "</table>\n",
       "</div>"
      ],
      "text/plain": [
       "        Assignment  Tutorial  Midterm  TakeHome  Final\n",
       "Prefix                                                \n",
       "7            72.85     86.85    60.00     80.80  56.11\n",
       "8            63.40     86.21    63.12     72.78  68.40\n",
       "6            90.74     89.64    61.25     90.00  68.40\n",
       "8            71.79    102.87    41.88     24.77  68.40"
      ]
     },
     "execution_count": 10,
     "metadata": {},
     "output_type": "execute_result"
    }
   ],
   "source": [
    "print('Grabbing NA Data\\n')\n",
    "df_missingvalue = df[df.isna().any(axis=1)]\n",
    "print(df_missingvalue)\n",
    "print ('\\n\\nFill NA using Mean')\n",
    "df_missingvalue.fillna(df.mean().round(1))"
   ]
  },
  {
   "cell_type": "code",
   "execution_count": 11,
   "metadata": {},
   "outputs": [
    {
     "name": "stdout",
     "output_type": "stream",
     "text": [
      "Grabbing NA Data\n",
      "\n",
      "        Assignment  Tutorial  Midterm  TakeHome  Final\n",
      "Prefix                                                \n",
      "7            72.85     86.85    60.00       NaN  56.11\n",
      "8            63.40     86.21    63.12     72.78    NaN\n",
      "6            90.74     89.64    61.25     90.00    NaN\n",
      "8            71.79    102.87    41.88     24.77    NaN\n",
      "\n",
      "\n",
      "Fill NA using Median\n"
     ]
    },
    {
     "data": {
      "text/html": [
       "<div>\n",
       "<style scoped>\n",
       "    .dataframe tbody tr th:only-of-type {\n",
       "        vertical-align: middle;\n",
       "    }\n",
       "\n",
       "    .dataframe tbody tr th {\n",
       "        vertical-align: top;\n",
       "    }\n",
       "\n",
       "    .dataframe thead th {\n",
       "        text-align: right;\n",
       "    }\n",
       "</style>\n",
       "<table border=\"1\" class=\"dataframe\">\n",
       "  <thead>\n",
       "    <tr style=\"text-align: right;\">\n",
       "      <th></th>\n",
       "      <th>Assignment</th>\n",
       "      <th>Tutorial</th>\n",
       "      <th>Midterm</th>\n",
       "      <th>TakeHome</th>\n",
       "      <th>Final</th>\n",
       "    </tr>\n",
       "    <tr>\n",
       "      <th>Prefix</th>\n",
       "      <th></th>\n",
       "      <th></th>\n",
       "      <th></th>\n",
       "      <th></th>\n",
       "      <th></th>\n",
       "    </tr>\n",
       "  </thead>\n",
       "  <tbody>\n",
       "    <tr>\n",
       "      <th>7</th>\n",
       "      <td>72.85</td>\n",
       "      <td>86.85</td>\n",
       "      <td>60.00</td>\n",
       "      <td>88.00</td>\n",
       "      <td>56.11</td>\n",
       "    </tr>\n",
       "    <tr>\n",
       "      <th>8</th>\n",
       "      <td>63.40</td>\n",
       "      <td>86.21</td>\n",
       "      <td>63.12</td>\n",
       "      <td>72.78</td>\n",
       "      <td>66.20</td>\n",
       "    </tr>\n",
       "    <tr>\n",
       "      <th>6</th>\n",
       "      <td>90.74</td>\n",
       "      <td>89.64</td>\n",
       "      <td>61.25</td>\n",
       "      <td>90.00</td>\n",
       "      <td>66.20</td>\n",
       "    </tr>\n",
       "    <tr>\n",
       "      <th>8</th>\n",
       "      <td>71.79</td>\n",
       "      <td>102.87</td>\n",
       "      <td>41.88</td>\n",
       "      <td>24.77</td>\n",
       "      <td>66.20</td>\n",
       "    </tr>\n",
       "  </tbody>\n",
       "</table>\n",
       "</div>"
      ],
      "text/plain": [
       "        Assignment  Tutorial  Midterm  TakeHome  Final\n",
       "Prefix                                                \n",
       "7            72.85     86.85    60.00     88.00  56.11\n",
       "8            63.40     86.21    63.12     72.78  66.20\n",
       "6            90.74     89.64    61.25     90.00  66.20\n",
       "8            71.79    102.87    41.88     24.77  66.20"
      ]
     },
     "execution_count": 11,
     "metadata": {},
     "output_type": "execute_result"
    }
   ],
   "source": [
    "print('Grabbing NA Data\\n')\n",
    "df_missingvalue = df[df.isna().any(axis=1)]\n",
    "print(df_missingvalue)\n",
    "print ('\\n\\nFill NA using Median')\n",
    "df_missingvalue.fillna(df.median().round(1))"
   ]
  },
  {
   "cell_type": "code",
   "execution_count": 12,
   "metadata": {},
   "outputs": [
    {
     "name": "stdout",
     "output_type": "stream",
     "text": [
      "Grabbing NA Data\n",
      "\n",
      "        Assignment  Tutorial  Midterm  TakeHome  Final\n",
      "Prefix                                                \n",
      "7            72.85     86.85    60.00       NaN  56.11\n",
      "8            63.40     86.21    63.12     72.78    NaN\n",
      "6            90.74     89.64    61.25     90.00    NaN\n",
      "8            71.79    102.87    41.88     24.77    NaN\n",
      "\n",
      "\n",
      "Fill NA using Mode\n"
     ]
    },
    {
     "data": {
      "text/html": [
       "<div>\n",
       "<style scoped>\n",
       "    .dataframe tbody tr th:only-of-type {\n",
       "        vertical-align: middle;\n",
       "    }\n",
       "\n",
       "    .dataframe tbody tr th {\n",
       "        vertical-align: top;\n",
       "    }\n",
       "\n",
       "    .dataframe thead th {\n",
       "        text-align: right;\n",
       "    }\n",
       "</style>\n",
       "<table border=\"1\" class=\"dataframe\">\n",
       "  <thead>\n",
       "    <tr style=\"text-align: right;\">\n",
       "      <th></th>\n",
       "      <th>Assignment</th>\n",
       "      <th>Tutorial</th>\n",
       "      <th>Midterm</th>\n",
       "      <th>TakeHome</th>\n",
       "      <th>Final</th>\n",
       "    </tr>\n",
       "    <tr>\n",
       "      <th>Prefix</th>\n",
       "      <th></th>\n",
       "      <th></th>\n",
       "      <th></th>\n",
       "      <th></th>\n",
       "      <th></th>\n",
       "    </tr>\n",
       "  </thead>\n",
       "  <tbody>\n",
       "    <tr>\n",
       "      <th>7</th>\n",
       "      <td>72.85</td>\n",
       "      <td>86.85</td>\n",
       "      <td>60.00</td>\n",
       "      <td>83.33</td>\n",
       "      <td>56.11</td>\n",
       "    </tr>\n",
       "    <tr>\n",
       "      <th>8</th>\n",
       "      <td>63.40</td>\n",
       "      <td>86.21</td>\n",
       "      <td>63.12</td>\n",
       "      <td>72.78</td>\n",
       "      <td>90.00</td>\n",
       "    </tr>\n",
       "    <tr>\n",
       "      <th>6</th>\n",
       "      <td>90.74</td>\n",
       "      <td>89.64</td>\n",
       "      <td>61.25</td>\n",
       "      <td>90.00</td>\n",
       "      <td>90.00</td>\n",
       "    </tr>\n",
       "    <tr>\n",
       "      <th>8</th>\n",
       "      <td>71.79</td>\n",
       "      <td>102.87</td>\n",
       "      <td>41.88</td>\n",
       "      <td>24.77</td>\n",
       "      <td>90.00</td>\n",
       "    </tr>\n",
       "  </tbody>\n",
       "</table>\n",
       "</div>"
      ],
      "text/plain": [
       "        Assignment  Tutorial  Midterm  TakeHome  Final\n",
       "Prefix                                                \n",
       "7            72.85     86.85    60.00     83.33  56.11\n",
       "8            63.40     86.21    63.12     72.78  90.00\n",
       "6            90.74     89.64    61.25     90.00  90.00\n",
       "8            71.79    102.87    41.88     24.77  90.00"
      ]
     },
     "execution_count": 12,
     "metadata": {},
     "output_type": "execute_result"
    }
   ],
   "source": [
    "print('Grabbing NA Data\\n')\n",
    "df_missingvalue = df[df.isna().any(axis=1)]\n",
    "print(df_missingvalue)\n",
    "print ('\\n\\nFill NA using Mode')\n",
    "df_missingvalue.fillna(df.mode().iloc[0])"
   ]
  },
  {
   "cell_type": "code",
   "execution_count": null,
   "metadata": {},
   "outputs": [],
   "source": []
  }
 ],
 "metadata": {
  "kernelspec": {
   "display_name": "APDA",
   "language": "python",
   "name": "python3"
  },
  "language_info": {
   "codemirror_mode": {
    "name": "ipython",
    "version": 3
   },
   "file_extension": ".py",
   "mimetype": "text/x-python",
   "name": "python",
   "nbconvert_exporter": "python",
   "pygments_lexer": "ipython3",
   "version": "3.11.4"
  },
  "orig_nbformat": 4
 },
 "nbformat": 4,
 "nbformat_minor": 2
}
