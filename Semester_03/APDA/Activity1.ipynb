{
 "cells": [
  {
   "cell_type": "code",
   "execution_count": 31,
   "metadata": {},
   "outputs": [
    {
     "name": "stdout",
     "output_type": "stream",
     "text": [
      "Add : \n",
      " [[ 5  7  9]\n",
      " [11 13 15]]\n"
     ]
    }
   ],
   "source": [
    "import numpy as np\n",
    "array1 = np.array([[1,2,3],[4,5,6]])\n",
    "array2 = np.array([[4,5,6],[7,8,9]])\n",
    "\n",
    "print (\"Add : \\n\", np.add(array1,array2))\n",
    "\n"
   ]
  },
  {
   "cell_type": "code",
   "execution_count": 32,
   "metadata": {},
   "outputs": [
    {
     "name": "stdout",
     "output_type": "stream",
     "text": [
      "Add: \n",
      " [[ 5  7  9]\n",
      " [11 13 15]]\n",
      "\n",
      " Substraction: \n",
      " [[-3 -3 -3]\n",
      " [-3 -3 -3]]\n",
      "\n",
      " Multiply: \n",
      " [[ 4 10 18]\n",
      " [28 40 54]]\n",
      "\n",
      " Divide: \n",
      " [[0.25       0.4        0.5       ]\n",
      " [0.57142857 0.625      0.66666667]]\n"
     ]
    }
   ],
   "source": [
    "print(\"Add: \\n\" ,np.add(array1,array2))\n",
    "print(\"\\n Substraction: \\n\",np.subtract(array1,array2))\n",
    "print(\"\\n Multiply: \\n\", np.multiply(array1,array2))\n",
    "print(\"\\n Divide: \\n\", np.divide(array1,array2))"
   ]
  },
  {
   "cell_type": "code",
   "execution_count": 33,
   "metadata": {},
   "outputs": [
    {
     "name": "stdout",
     "output_type": "stream",
     "text": [
      "[3 5]\n"
     ]
    }
   ],
   "source": [
    "array1 = np.array([1,2,3,4,5])\n",
    "array2 = np.array([3,5,7,9])\n",
    "\n",
    "result1 = array1[np.in1d(array1,array2)]\n",
    "\n",
    "print (result1)"
   ]
  }
 ],
 "metadata": {
  "kernelspec": {
   "display_name": "Python 3",
   "language": "python",
   "name": "python3"
  },
  "language_info": {
   "codemirror_mode": {
    "name": "ipython",
    "version": 3
   },
   "file_extension": ".py",
   "mimetype": "text/x-python",
   "name": "python",
   "nbconvert_exporter": "python",
   "pygments_lexer": "ipython3",
   "version": "3.11.4"
  },
  "orig_nbformat": 4
 },
 "nbformat": 4,
 "nbformat_minor": 2
}
