{
 "cells": [
  {
   "cell_type": "code",
   "execution_count": 6,
   "metadata": {},
   "outputs": [
    {
     "name": "stdout",
     "output_type": "stream",
     "text": [
      "Random rows with replacement:\n",
      "     No. First Name Gender Start Date Last Login Time  Salary  Bonus %  \\\n",
      "451  452      Terry    NaN  7/15/2016        12:29 AM  140002   19.490   \n",
      "945  946     Gerald    NaN  4/15/1989        12:44 PM   93712   17.426   \n",
      "575  576       John   Male  1/22/1995        12:17 AM   66077    5.809   \n",
      "162  163     Arthur   Male  4/13/1998        11:28 AM   89786   14.422   \n",
      "\n",
      "    Senior Management          Team  \n",
      "451              True     Marketing  \n",
      "945              True  Distribution  \n",
      "575              True       Product  \n",
      "162              True         Legal  \n",
      "\n",
      "Random rows without replacement:\n",
      "     No. First Name  Gender Start Date Last Login Time  Salary  Bonus %  \\\n",
      "166  167        NaN  Female   7/9/1991         6:52 PM   42341    7.014   \n",
      "425  426      Alice  Female   5/2/1986         1:50 AM   51395    2.378   \n",
      "936  937      Maria  Female  3/14/2003         5:23 PM   96250   10.056   \n",
      "82    83     Steven    Male  3/30/1980         9:20 PM   35095    8.379   \n",
      "\n",
      "    Senior Management                  Team  \n",
      "166               NaN                 Sales  \n",
      "425              True               Finance  \n",
      "936             False  Business Development  \n",
      "82               True       Client Services  \n"
     ]
    }
   ],
   "source": [
    "import pandas as pd\n",
    "\n",
    "df = pd.read_csv(\"employees.csv\")\n",
    "\n",
    "random_rows_with_replacement = df.sample(n=4, replace=True)\n",
    "\n",
    "random_rows_without_replacement = df.sample(n=4, replace=False)\n",
    "\n",
    "print(\"Random rows with replacement:\")\n",
    "print(random_rows_with_replacement)\n",
    "\n",
    "print(\"\\nRandom rows without replacement:\")\n",
    "print(random_rows_without_replacement)"
   ]
  }
 ],
 "metadata": {
  "kernelspec": {
   "display_name": "APDA",
   "language": "python",
   "name": "python3"
  },
  "language_info": {
   "codemirror_mode": {
    "name": "ipython",
    "version": 3
   },
   "file_extension": ".py",
   "mimetype": "text/x-python",
   "name": "python",
   "nbconvert_exporter": "python",
   "pygments_lexer": "ipython3",
   "version": "3.11.4"
  },
  "orig_nbformat": 4
 },
 "nbformat": 4,
 "nbformat_minor": 2
}
