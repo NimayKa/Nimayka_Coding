import re
import pandas as pd

df = pd.read_table("textfile.txt",header=None, names=['text'])

def contains_9_digit_number(s):
    return bool(re.search(r'\b\d{9}\b', s))

def starts_with_a_ends_with_b(s):
    return s.startswith('a') and s.endswith('b')

def split_string_by_delimiter(s, delimiter):
    return s.split(delimiter)

def CheckNum(s):
    return contains_9_digit_number(s)

def CheckAB(s):
    return starts_with_a_ends_with_b(s)

def SplitDelimiter(s, delimiter):
    return split_string_by_delimiter(s, delimiter)

for string in df['text']:
    print ("\n\nString :", string,"\n")
    print(f"Input: CheckNum(\"{string}\")")
    print(CheckNum(string))

    print(f"Input: CheckAB(\"{string}\")")
    print(CheckAB(string))

    print(f"Input: SplitDelimiter(\"{string}\", \"#\")")
    print(SplitDelimiter(string, '#'))

    print("SplitDelimiter($)",string)
    print(SplitDelimiter(string, ','))

    print("Input: SplitDelimiter($)",string)
    print(SplitDelimiter(string, '$'))
