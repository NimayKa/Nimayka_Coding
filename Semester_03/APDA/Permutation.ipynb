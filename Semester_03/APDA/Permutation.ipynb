{
 "cells": [
  {
   "cell_type": "markdown",
   "metadata": {},
   "source": [
    "Permutation"
   ]
  },
  {
   "cell_type": "code",
   "execution_count": 6,
   "metadata": {},
   "outputs": [
    {
     "name": "stdout",
     "output_type": "stream",
     "text": [
      "Orignal Dataframe:\n",
      "    0   1   2   3\n",
      "0   0   1   2   3\n",
      "1   4   5   6   7\n",
      "2   8   9  10  11\n",
      "3  12  13  14  15\n",
      "4  16  17  18  19\n",
      "Shuffled Dataframe:\n",
      "    0   1   2   3\n",
      "3  12  13  14  15\n",
      "4  16  17  18  19\n",
      "2   8   9  10  11\n",
      "1   4   5   6   7\n",
      "0   0   1   2   3\n"
     ]
    }
   ],
   "source": [
    "import pandas as pd\n",
    "import numpy as np\n",
    "\n",
    "df = pd.DataFrame(np.arange(5*4).reshape((5,4)))\n",
    "print (\"Orignal Dataframe:\")\n",
    "print (df)\n",
    "\n",
    "sampler = np.random.permutation(5)\n",
    "df_shuffled = df.iloc[sampler]\n",
    "\n",
    "print (\"Shuffled Dataframe:\")\n",
    "print(df_shuffled)\n"
   ]
  },
  {
   "cell_type": "code",
   "execution_count": 7,
   "metadata": {},
   "outputs": [
    {
     "name": "stdout",
     "output_type": "stream",
     "text": [
      "Shuffled Dataframe Take:\n",
      "    0   1   2   3\n",
      "3  12  13  14  15\n",
      "4  16  17  18  19\n",
      "2   8   9  10  11\n",
      "1   4   5   6   7\n",
      "0   0   1   2   3\n",
      "Random subset without replacement using sample\n",
      "    0   1   2   3\n",
      "1   4   5   6   7\n",
      "4  16  17  18  19\n",
      "3  12  13  14  15\n"
     ]
    }
   ],
   "source": [
    "print (\"Shuffled Dataframe Take:\")\n",
    "df_shuffled_take = df.take(sampler)\n",
    "print (df_shuffled_take)\n",
    "random_subset = df.sample(n=3)\n",
    "print (\"Random subset without replacement using sample\")\n",
    "print (random_subset)"
   ]
  },
  {
   "cell_type": "code",
   "execution_count": 8,
   "metadata": {},
   "outputs": [
    {
     "name": "stdout",
     "output_type": "stream",
     "text": [
      "0    5\n",
      "3    6\n",
      "2   -1\n",
      "3    6\n",
      "0    5\n",
      "3    6\n",
      "3    6\n",
      "0    5\n",
      "0    5\n",
      "1    7\n",
      "dtype: int64\n"
     ]
    }
   ],
   "source": [
    "choice = pd.Series([5,7,-1,6,4])\n",
    "\n",
    "draws = choice.sample(n=10,replace=True)\n",
    "\n",
    "print(draws)"
   ]
  },
  {
   "cell_type": "code",
   "execution_count": 9,
   "metadata": {},
   "outputs": [
    {
     "name": "stdout",
     "output_type": "stream",
     "text": [
      "   data1  key_a  key_b  key_c\n",
      "0      0      0      1      0\n",
      "1      1      0      1      0\n",
      "2      2      1      0      0\n",
      "3      3      0      0      1\n",
      "4      4      1      0      0\n",
      "5      5      0      1      0\n"
     ]
    }
   ],
   "source": [
    "df = pd.DataFrame({'key':['b','b','a','c','a','b'],'data1': range(6)})\n",
    "dummies = pd.get_dummies(df['key'],prefix='key')\n",
    "df_with_dummy = df[['data1']].join(dummies)\n",
    "print(df_with_dummy)"
   ]
  },
  {
   "cell_type": "code",
   "execution_count": 10,
   "metadata": {},
   "outputs": [
    {
     "name": "stdout",
     "output_type": "stream",
     "text": [
      "   movie_id                               title                        genres\n",
      "0         1                    Toy Story (1995)   Animation|Children's|Comedy\n",
      "1         2                      Jumanji (1995)  Adventure|Children's|Fantasy\n",
      "2         3             Grumpier Old Men (1995)                Comedy|Romance\n",
      "3         4            Waiting to Exhale (1995)                  Comedy|Drama\n",
      "4         5  Father of the Bride Part II (1995)                        Comedy\n",
      "5         6                         Heat (1995)         Action|Crime|Thriller\n",
      "6         7                      Sabrina (1995)                Comedy|Romance\n",
      "7         8                 Tom and Huck (1995)          Adventure|Children's\n",
      "8         9                 Sudden Death (1995)                        Action\n",
      "9        10                    GoldenEye (1995)     Action|Adventure|Thriller\n",
      "\n",
      " ['Animation' \"Children's\" 'Comedy' 'Adventure' 'Fantasy' 'Romance' 'Drama'\n",
      " 'Action' 'Crime' 'Thriller' 'Horror' 'Sci-Fi' 'Documentary' 'War'\n",
      " 'Musical' 'Mystery' 'Film-Noir' 'Western']\n",
      "\n",
      " "
     ]
    },
    {
     "name": "stderr",
     "output_type": "stream",
     "text": [
      "C:\\Users\\yamin\\AppData\\Local\\Temp\\ipykernel_5472\\188909163.py:7: ParserWarning: Falling back to the 'python' engine because the 'c' engine does not support regex separators (separators > 1 char and different from '\\s+' are interpreted as regex); you can avoid this warning by specifying engine='python'.\n",
      "  movies = pd.read_table('movies.dat', sep='::', header=None, names=mnames, encoding='latin-1')\n"
     ]
    },
    {
     "name": "stdout",
     "output_type": "stream",
     "text": [
      "   Animation  Children's  Comedy  Adventure  Fantasy  Romance  Drama  Action  \\\n",
      "0        0.0         0.0     0.0        0.0      0.0      0.0    0.0     0.0   \n",
      "1        0.0         0.0     0.0        0.0      0.0      0.0    0.0     0.0   \n",
      "2        0.0         0.0     0.0        0.0      0.0      0.0    0.0     0.0   \n",
      "3        0.0         0.0     0.0        0.0      0.0      0.0    0.0     0.0   \n",
      "4        0.0         0.0     0.0        0.0      0.0      0.0    0.0     0.0   \n",
      "5        0.0         0.0     0.0        0.0      0.0      0.0    0.0     0.0   \n",
      "6        0.0         0.0     0.0        0.0      0.0      0.0    0.0     0.0   \n",
      "7        0.0         0.0     0.0        0.0      0.0      0.0    0.0     0.0   \n",
      "8        0.0         0.0     0.0        0.0      0.0      0.0    0.0     0.0   \n",
      "9        0.0         0.0     0.0        0.0      0.0      0.0    0.0     0.0   \n",
      "\n",
      "   Crime  Thriller  Horror  Sci-Fi  Documentary  War  Musical  Mystery  \\\n",
      "0    0.0       0.0     0.0     0.0          0.0  0.0      0.0      0.0   \n",
      "1    0.0       0.0     0.0     0.0          0.0  0.0      0.0      0.0   \n",
      "2    0.0       0.0     0.0     0.0          0.0  0.0      0.0      0.0   \n",
      "3    0.0       0.0     0.0     0.0          0.0  0.0      0.0      0.0   \n",
      "4    0.0       0.0     0.0     0.0          0.0  0.0      0.0      0.0   \n",
      "5    0.0       0.0     0.0     0.0          0.0  0.0      0.0      0.0   \n",
      "6    0.0       0.0     0.0     0.0          0.0  0.0      0.0      0.0   \n",
      "7    0.0       0.0     0.0     0.0          0.0  0.0      0.0      0.0   \n",
      "8    0.0       0.0     0.0     0.0          0.0  0.0      0.0      0.0   \n",
      "9    0.0       0.0     0.0     0.0          0.0  0.0      0.0      0.0   \n",
      "\n",
      "   Film-Noir  Western  \n",
      "0        0.0      0.0  \n",
      "1        0.0      0.0  \n",
      "2        0.0      0.0  \n",
      "3        0.0      0.0  \n",
      "4        0.0      0.0  \n",
      "5        0.0      0.0  \n",
      "6        0.0      0.0  \n",
      "7        0.0      0.0  \n",
      "8        0.0      0.0  \n",
      "9        0.0      0.0  \n"
     ]
    },
    {
     "name": "stdout",
     "output_type": "stream",
     "text": [
      "\n",
      "    Animation  Children's  Comedy  Adventure  Fantasy  Romance  Drama  Action  \\\n",
      "0        1.0         1.0     1.0        0.0      0.0      0.0    0.0     0.0   \n",
      "1        0.0         1.0     0.0        1.0      1.0      0.0    0.0     0.0   \n",
      "2        0.0         0.0     1.0        0.0      0.0      1.0    0.0     0.0   \n",
      "3        0.0         0.0     1.0        0.0      0.0      0.0    1.0     0.0   \n",
      "4        0.0         0.0     1.0        0.0      0.0      0.0    0.0     0.0   \n",
      "5        0.0         0.0     0.0        0.0      0.0      0.0    0.0     1.0   \n",
      "6        0.0         0.0     1.0        0.0      0.0      1.0    0.0     0.0   \n",
      "7        0.0         1.0     0.0        1.0      0.0      0.0    0.0     0.0   \n",
      "8        0.0         0.0     0.0        0.0      0.0      0.0    0.0     1.0   \n",
      "9        0.0         0.0     0.0        1.0      0.0      0.0    0.0     1.0   \n",
      "\n",
      "   Crime  Thriller  Horror  Sci-Fi  Documentary  War  Musical  Mystery  \\\n",
      "0    0.0       0.0     0.0     0.0          0.0  0.0      0.0      0.0   \n",
      "1    0.0       0.0     0.0     0.0          0.0  0.0      0.0      0.0   \n",
      "2    0.0       0.0     0.0     0.0          0.0  0.0      0.0      0.0   \n",
      "3    0.0       0.0     0.0     0.0          0.0  0.0      0.0      0.0   \n",
      "4    0.0       0.0     0.0     0.0          0.0  0.0      0.0      0.0   \n",
      "5    1.0       1.0     0.0     0.0          0.0  0.0      0.0      0.0   \n",
      "6    0.0       0.0     0.0     0.0          0.0  0.0      0.0      0.0   \n",
      "7    0.0       0.0     0.0     0.0          0.0  0.0      0.0      0.0   \n",
      "8    0.0       0.0     0.0     0.0          0.0  0.0      0.0      0.0   \n",
      "9    0.0       1.0     0.0     0.0          0.0  0.0      0.0      0.0   \n",
      "\n",
      "   Film-Noir  Western  \n",
      "0        0.0      0.0  \n",
      "1        0.0      0.0  \n",
      "2        0.0      0.0  \n",
      "3        0.0      0.0  \n",
      "4        0.0      0.0  \n",
      "5        0.0      0.0  \n",
      "6        0.0      0.0  \n",
      "7        0.0      0.0  \n",
      "8        0.0      0.0  \n",
      "9        0.0      0.0  \n",
      "\n",
      " movie_id                                       1\n",
      "title                           Toy Story (1995)\n",
      "genres               Animation|Children's|Comedy\n",
      "Genre_Animation                              1.0\n",
      "Genre_Children's                             1.0\n",
      "Genre_Comedy                                 1.0\n",
      "Genre_Adventure                              0.0\n",
      "Genre_Fantasy                                0.0\n",
      "Genre_Romance                                0.0\n",
      "Genre_Drama                                  0.0\n",
      "Genre_Action                                 0.0\n",
      "Genre_Crime                                  0.0\n",
      "Genre_Thriller                               0.0\n",
      "Genre_Horror                                 0.0\n",
      "Genre_Sci-Fi                                 0.0\n",
      "Genre_Documentary                            0.0\n",
      "Genre_War                                    0.0\n",
      "Genre_Musical                                0.0\n",
      "Genre_Mystery                                0.0\n",
      "Genre_Film-Noir                              0.0\n",
      "Genre_Western                                0.0\n",
      "Name: 0, dtype: object\n"
     ]
    }
   ],
   "source": [
    "import pandas as pd\n",
    "\n",
    "# Define column names\n",
    "mnames = ['movie_id', 'title', 'genres']\n",
    "\n",
    "# Load the MovieLens 1M dataset with proper encoding and separator\n",
    "movies = pd.read_table('movies.dat', sep='::', header=None, names=mnames, encoding='latin-1')\n",
    "    \n",
    "# Display the first 10 rows of the DataFrame\n",
    "print(movies.head(10))\n",
    "\n",
    "# Extract unique genres from the 'genres' column\n",
    "all_genres = [] # Initialize an empty list all_genres to store all genres from the movies\n",
    "\n",
    "# Loop through the genres column of the movies DataFrame\n",
    "for x in movies.genres:\n",
    "    all_genres.extend(x.split('|')) # use split('|') to extract individual genres from the pipe-separated string. Extend the all_genres list with these extracted genres.\n",
    "\n",
    "genres = pd.unique(all_genres) # get a list of unique genres from the all_genres list.\n",
    "\n",
    "print(\"\\n\", genres)\n",
    "\n",
    "# Create a DataFrame of all zeros with columns for each genre\n",
    "zero_matrix = np.zeros((len(movies), len(genres)))\n",
    "dummies = pd.DataFrame(zero_matrix, columns=genres) # (Row, Column)\n",
    "\n",
    "print(\"\\n\", dummies.head(10))\n",
    "\n",
    "# Loop through the genres and set indicator values\n",
    "for i, gen in enumerate(movies.genres): #  i rows index, gen is genre in the movies rows and adds a counter to the genres \n",
    "    indices = dummies.columns.get_indexer(gen.split('|')) #for detecting which column arah dummies column ani yg match with the genre and get.indexer macam map function\n",
    "    dummies.iloc[i, indices] = 1 #then set the detected genre column to 1 which indicates the presence of the genre in the column\n",
    "\n",
    "# Display the first few rows of the filled indicator DataFrame\n",
    "print(\"\\n\", dummies.head(10))\n",
    "\n",
    "# Combine dummies DataFrame with movies DataFrame\n",
    "movies_windic = movies.join(dummies.add_prefix('Genre_'))\n",
    "\n",
    "# Display the first row of the combined DataFrame\n",
    "print(\"\\n\", movies_windic.iloc[0])"
   ]
  },
  {
   "cell_type": "code",
   "execution_count": 11,
   "metadata": {},
   "outputs": [
    {
     "name": "stdout",
     "output_type": "stream",
     "text": [
      "Values:\n",
      " [0.92961609 0.31637555 0.18391881 0.20456028 0.56772503 0.5955447\n",
      " 0.96451452 0.6531771  0.74890664 0.65356987]\n",
      "\n",
      "Discretized Values:\n",
      " [(0.8, 1.0], (0.2, 0.4], (0.0, 0.2], (0.2, 0.4], (0.4, 0.6], (0.4, 0.6], (0.8, 1.0], (0.6, 0.8], (0.6, 0.8], (0.6, 0.8]]\n",
      "Categories (5, interval[float64, right]): [(0.0, 0.2] < (0.2, 0.4] < (0.4, 0.6] < (0.6, 0.8] < (0.8, 1.0]]\n",
      "\n",
      "Dummy Variables:\n",
      "    (0.0, 0.2]  (0.2, 0.4]  (0.4, 0.6]  (0.6, 0.8]  (0.8, 1.0]\n",
      "0           0           0           0           0           1\n",
      "1           0           1           0           0           0\n",
      "2           1           0           0           0           0\n",
      "3           0           1           0           0           0\n",
      "4           0           0           1           0           0\n",
      "5           0           0           1           0           0\n",
      "6           0           0           0           0           1\n",
      "7           0           0           0           1           0\n",
      "8           0           0           0           1           0\n",
      "9           0           0           0           1           0\n"
     ]
    }
   ],
   "source": [
    "import pandas as pd \n",
    "import numpy as np\n",
    "\n",
    "# Set seed for reproducibility\n",
    "np.random.seed(12345) # .seed() - Produce random values which it doesn't change after a few runs\n",
    "\n",
    "# Generate random values\n",
    "values = np.random.rand(10)\n",
    "print(\"Values:\\n\", values)\n",
    "\n",
    "# Define the bins for discretization\n",
    "bins = [0,0.2,0.4,0.6,0.8,1]\n",
    "\n",
    "# Use pd.cut to discretize the values into bins\n",
    "discretized = pd.cut(values,bins)\n",
    "print(\"\\nDiscretized Values:\\n\", discretized)\n",
    "\n",
    "# USe pd.get_dummies to create indicator variables for the discretized bins\n",
    "dummies = pd.get_dummies(discretized)\n",
    "print(\"\\nDummy Variables:\\n\", dummies)"
   ]
  },
  {
   "cell_type": "code",
   "execution_count": 12,
   "metadata": {},
   "outputs": [
    {
     "name": "stdout",
     "output_type": "stream",
     "text": [
      "['a', ' b', ' guido']\n"
     ]
    }
   ],
   "source": [
    "val = 'a, b, guido'\n",
    "result = val.split(',')\n",
    "\n",
    "print(result)"
   ]
  },
  {
   "cell_type": "code",
   "execution_count": 13,
   "metadata": {},
   "outputs": [
    {
     "name": "stdout",
     "output_type": "stream",
     "text": [
      "['a', 'b', 'guido']\n"
     ]
    }
   ],
   "source": [
    "val = 'a, b, guido'\n",
    "\n",
    "# The list comprehension iterates through each element\n",
    "pieces = [x.strip() for x in val.split(',')]\n",
    "\n",
    "print(pieces)"
   ]
  },
  {
   "cell_type": "code",
   "execution_count": 14,
   "metadata": {},
   "outputs": [
    {
     "name": "stdout",
     "output_type": "stream",
     "text": [
      "First::Second::Third\n"
     ]
    }
   ],
   "source": [
    "pieces = ['First', 'Second', 'Third']\n",
    "result = pieces[0] + '::' + pieces[1] + '::' + pieces [2]\n",
    "\n",
    "print(result)"
   ]
  },
  {
   "cell_type": "code",
   "execution_count": 15,
   "metadata": {},
   "outputs": [
    {
     "name": "stdout",
     "output_type": "stream",
     "text": [
      "First::Second::Third\n"
     ]
    }
   ],
   "source": [
    "pieces = ['First', 'Second', 'Third']\n",
    "delimiter = '::'\n",
    "result = delimiter.join(pieces)\n",
    "\n",
    "print(result)"
   ]
  },
  {
   "cell_type": "code",
   "execution_count": 16,
   "metadata": {},
   "outputs": [
    {
     "name": "stdout",
     "output_type": "stream",
     "text": [
      "True\n",
      "\n",
      " False\n"
     ]
    }
   ],
   "source": [
    "val = 'a, b, guido'\n",
    "is_substring_present = 'guido' in val\n",
    "is_substring_present2 = 'c' in val\n",
    "print(is_substring_present)\n",
    "print('\\n', is_substring_present2)"
   ]
  },
  {
   "cell_type": "code",
   "execution_count": 17,
   "metadata": {},
   "outputs": [
    {
     "name": "stdout",
     "output_type": "stream",
     "text": [
      "1\n"
     ]
    }
   ],
   "source": [
    "val = 'a, b, guido'\n",
    "comma_index = val.index(',')\n",
    "print(comma_index) # Gives 1 because it detected ','"
   ]
  },
  {
   "cell_type": "code",
   "execution_count": 18,
   "metadata": {},
   "outputs": [
    {
     "ename": "ValueError",
     "evalue": "substring not found",
     "output_type": "error",
     "traceback": [
      "\u001b[1;31m---------------------------------------------------------------------------\u001b[0m",
      "\u001b[1;31mValueError\u001b[0m                                Traceback (most recent call last)",
      "Cell \u001b[1;32mIn[18], line 2\u001b[0m\n\u001b[0;32m      1\u001b[0m val \u001b[39m=\u001b[39m \u001b[39m'\u001b[39m\u001b[39ma, b, guido\u001b[39m\u001b[39m'\u001b[39m\n\u001b[1;32m----> 2\u001b[0m comma_index2 \u001b[39m=\u001b[39m val\u001b[39m.\u001b[39;49mindex(\u001b[39m'\u001b[39;49m\u001b[39m.\u001b[39;49m\u001b[39m'\u001b[39;49m)\n\u001b[0;32m      3\u001b[0m \u001b[39mprint\u001b[39m(\u001b[39m'\u001b[39m\u001b[39m\\n\u001b[39;00m\u001b[39m'\u001b[39m, comma_index2) \u001b[39m# Error made purposely to show what will happen if string searched is not found\u001b[39;00m\n",
      "\u001b[1;31mValueError\u001b[0m: substring not found"
     ]
    }
   ],
   "source": [
    "val = 'a, b, guido'\n",
    "comma_index2 = val.index('.')\n",
    "print('\\n', comma_index2) # Error made purposely to show what will happen if string searched is not found"
   ]
  },
  {
   "cell_type": "code",
   "execution_count": null,
   "metadata": {},
   "outputs": [],
   "source": [
    "val = 'a, b, guido'\n",
    "colon_index = val.find(':')\n",
    "print('\\n', colon_index) \n",
    "# With the above section of code, this is used to show whether searched value is present or not"
   ]
  },
  {
   "cell_type": "code",
   "execution_count": null,
   "metadata": {},
   "outputs": [],
   "source": [
    "val = 'a, b, guido'\n",
    "comma_count = val.count(',')\n",
    "print(comma_count)"
   ]
  },
  {
   "cell_type": "code",
   "execution_count": null,
   "metadata": {},
   "outputs": [],
   "source": [
    "val = 'a, b, guido'\n",
    "\n",
    "# Replace ',' with '::'\n",
    "replaced_val = val.replace(',', '::')\n",
    "print(replaced_val)\n",
    "\n",
    "# Delete all occurrences of ','\n",
    "deleted_val = val.replace(',', '')\n",
    "print('\\n', deleted_val)"
   ]
  },
  {
   "cell_type": "code",
   "execution_count": null,
   "metadata": {},
   "outputs": [],
   "source": [
    "import re\n",
    "\n",
    "text = \"foo bar\\t baz \\tqux\"\n",
    "# this will split the string whenever it see whitespaces\n",
    "split_result = re.split('\\s+', text)\n",
    "\n",
    "print(text)\n",
    "print(\"Split result:\", split_result)\n",
    "\n",
    "# Compile the regex pattern\n",
    "regex = re.compile(r'\\s+')\n",
    "\n",
    "# Split using the compiled regex object\n",
    "split_result = regex.split(text)\n",
    "print(\"Split result:\", split_result)\n",
    "\n",
    "# Find all occurrences matching the regex\n",
    "matches = regex.findall(text)\n",
    "print(\"Matches:\", matches)"
   ]
  },
  {
   "cell_type": "code",
   "execution_count": null,
   "metadata": {},
   "outputs": [],
   "source": [
    "import pandas as pd\n",
    "import numpy as np\n",
    "import re\n",
    "\n",
    "# Sample data with missing values (NaN)\n",
    "data = {'Dave': 'dave@google.com', 'Steve': 'steve@gmail.com', 'Rob': 'rob@gmail.com', 'Wes': np.nan}\n",
    "data = pd.Series(data)\n",
    "print(\"Original data:\\n\", data)\n",
    "\n",
    "# Check if each email address contains 'gmail'\n",
    "contains_gmail = data.str.contains('gmail', na=False)\n",
    "print(\"\\nEmail addresses containing 'gmail':\\n\", contains_gmail)\n",
    "\n",
    "# Use regular expressions to match email patterns\n",
    "email_pattern = r'\\w+@gmail\\.com'\n",
    "matches = data.str.match(email_pattern, flags=re.IGNORECASE)\n",
    "print(\"\\nMatches email pattern:\", email_pattern, \"\\n\", matches)\n",
    "\n",
    "# Access the first character of each email address\n",
    "first_char = data.str[0]\n",
    "print(\"\\nFirst character of each email address:\\n\", first_char)\n",
    "\n",
    "# Access the second element of each email address using str.get()\n",
    "second_element = data.str.get(1)\n",
    "print(\"\\nSecond element of each email address using str.get():\\n\", second_element)\n",
    "\n",
    "# Access the second element of each email address using indexing\n",
    "second_element_indexing = data.str[1]\n",
    "print(\"\\nSecond element of each email address using indexing:\\n\", second_element_indexing)\n",
    "\n",
    "# Slice the first 5 characters of each email address\n",
    "sliced_data = data.str[:5]\n",
    "print(\"\\nSliced data (first 5 characters):\\n\", sliced_data)"
   ]
  }
 ],
 "metadata": {
  "kernelspec": {
   "display_name": "APDA",
   "language": "python",
   "name": "python3"
  },
  "language_info": {
   "codemirror_mode": {
    "name": "ipython",
    "version": 3
   },
   "file_extension": ".py",
   "mimetype": "text/x-python",
   "name": "python",
   "nbconvert_exporter": "python",
   "pygments_lexer": "ipython3",
   "version": "3.11.4"
  },
  "orig_nbformat": 4
 },
 "nbformat": 4,
 "nbformat_minor": 2
}
